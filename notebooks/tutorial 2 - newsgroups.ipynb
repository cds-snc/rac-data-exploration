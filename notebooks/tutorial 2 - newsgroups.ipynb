{
 "cells": [
  {
   "cell_type": "markdown",
   "metadata": {},
   "source": [
    "see https://scikit-learn.org/stable/tutorial/text_analytics/working_with_text_data.html"
   ]
  },
  {
   "cell_type": "code",
   "execution_count": 1,
   "metadata": {},
   "outputs": [],
   "source": [
    "from itertools import product\n",
    "import pandas as pd\n",
    "import numpy as np\n",
    "from sklearn.datasets import fetch_20newsgroups\n",
    "from sklearn import metrics\n",
    "from sklearn import metrics\n",
    "from sklearn.feature_extraction.text import CountVectorizer\n",
    "from sklearn.naive_bayes import MultinomialNB\n",
    "from sklearn.linear_model import SGDClassifier\n",
    "from sklearn.ensemble import RandomForestClassifier\n",
    "from sklearn.pipeline import Pipeline\n",
    "from sklearn.model_selection import train_test_split"
   ]
  },
  {
   "cell_type": "code",
   "execution_count": 2,
   "metadata": {},
   "outputs": [],
   "source": [
    "categories=['alt.atheism', 'soc.religion.christian', 'comp.graphics', 'sci.med', 'sci.space']\n",
    "\n",
    "train_data = fetch_20newsgroups(subset='train', categories=categories, shuffle=True, random_state=42)\n",
    "test_data = fetch_20newsgroups(subset='test', categories=categories, shuffle=True, random_state=42)"
   ]
  },
  {
   "cell_type": "markdown",
   "metadata": {},
   "source": [
    "## Explore the data"
   ]
  },
  {
   "cell_type": "markdown",
   "metadata": {},
   "source": [
    "How much training data do we have (ie how many posts)?"
   ]
  },
  {
   "cell_type": "code",
   "execution_count": 3,
   "metadata": {},
   "outputs": [
    {
     "name": "stdout",
     "output_type": "stream",
     "text": [
      "Training on 2850 rows\n",
      "Testing on 1896 rows\n"
     ]
    }
   ],
   "source": [
    "print(f\"Training on {len(train_data.data)} rows\")\n",
    "print(f\"Testing on {len(test_data.data)} rows\")"
   ]
  },
  {
   "cell_type": "markdown",
   "metadata": {},
   "source": [
    "What does the data look like?"
   ]
  },
  {
   "cell_type": "code",
   "execution_count": 4,
   "metadata": {},
   "outputs": [
    {
     "name": "stdout",
     "output_type": "stream",
     "text": [
      "From: ddeciacco@cix.compulink.co.uk (David Deciacco)\n",
      "Subject: Re: Another CVIEW question (wa\n",
      "Reply-To: ddeciacco@cix.compulink.co.uk\n",
      "Lines: 5\n",
      "\n",
      "\n",
      "In-Reply-To: <20APR199312262902@rigel.tamu.edu> lmp8913@rigel.tamu.edu (PRESTON, LISA M)\n",
      "\n",
      "I have a trident card and fullview works real gif jpg try it#\n",
      "dave\n",
      "\n"
     ]
    }
   ],
   "source": [
    "print(train_data.data[0])"
   ]
  },
  {
   "cell_type": "markdown",
   "metadata": {},
   "source": [
    "# Try classifiers"
   ]
  },
  {
   "cell_type": "code",
   "execution_count": 5,
   "metadata": {},
   "outputs": [],
   "source": [
    "classifiers = [\n",
    "    MultinomialNB(),\n",
    "    SGDClassifier(alpha=0.1, random_state=42, max_iter=20, tol=0.3),\n",
    "    RandomForestClassifier(n_estimators=100),\n",
    "]"
   ]
  },
  {
   "cell_type": "code",
   "execution_count": 6,
   "metadata": {},
   "outputs": [],
   "source": [
    "train_data = fetch_20newsgroups(subset='train', categories=categories, shuffle=True, random_state=42)\n",
    "test_data = fetch_20newsgroups(subset='test', categories=categories, shuffle=True, random_state=42)"
   ]
  },
  {
   "cell_type": "code",
   "execution_count": 7,
   "metadata": {},
   "outputs": [
    {
     "name": "stdout",
     "output_type": "stream",
     "text": [
      "Just word counts\n",
      "\n",
      "MultinomialNB accuracy = 93%\n",
      "SGDClassifier accuracy = 89%\n",
      "RandomForestClassifier accuracy = 81%\n"
     ]
    },
    {
     "data": {
      "text/html": [
       "<div>\n",
       "<style scoped>\n",
       "    .dataframe tbody tr th:only-of-type {\n",
       "        vertical-align: middle;\n",
       "    }\n",
       "\n",
       "    .dataframe tbody tr th {\n",
       "        vertical-align: top;\n",
       "    }\n",
       "\n",
       "    .dataframe thead th {\n",
       "        text-align: right;\n",
       "    }\n",
       "</style>\n",
       "<table border=\"1\" class=\"dataframe\">\n",
       "  <thead>\n",
       "    <tr style=\"text-align: right;\">\n",
       "      <th></th>\n",
       "      <th>Classifier</th>\n",
       "      <th>Accuracy</th>\n",
       "    </tr>\n",
       "  </thead>\n",
       "  <tbody>\n",
       "    <tr>\n",
       "      <th>0</th>\n",
       "      <td>MultinomialNB</td>\n",
       "      <td>92.774262</td>\n",
       "    </tr>\n",
       "    <tr>\n",
       "      <th>0</th>\n",
       "      <td>SGDClassifier</td>\n",
       "      <td>88.871308</td>\n",
       "    </tr>\n",
       "    <tr>\n",
       "      <th>0</th>\n",
       "      <td>RandomForestClassifier</td>\n",
       "      <td>81.065401</td>\n",
       "    </tr>\n",
       "  </tbody>\n",
       "</table>\n",
       "</div>"
      ],
      "text/plain": [
       "               Classifier   Accuracy\n",
       "0           MultinomialNB  92.774262\n",
       "0           SGDClassifier  88.871308\n",
       "0  RandomForestClassifier  81.065401"
      ]
     },
     "execution_count": 7,
     "metadata": {},
     "output_type": "execute_result"
    }
   ],
   "source": [
    "print(\"Just word counts\\n\")\n",
    "\n",
    "result_cols = [\"Classifier\", \"Accuracy\"]\n",
    "result_frame = pd.DataFrame(columns=result_cols)\n",
    "\n",
    "\n",
    "for clf in classifiers:\n",
    "    name = clf.__class__.__name__\n",
    "    text_clf = Pipeline([('vect', CountVectorizer()),\n",
    "                         ('clf', clf),])\n",
    "    text_clf.fit(train_data.data, train_data.target)\n",
    "    \n",
    "    predicted = text_clf.predict(test_data.data)\n",
    "    acc = metrics.accuracy_score(test_data.target, predicted)\n",
    "    print (f'{name} accuracy = {acc*100:.0f}%')\n",
    "    acc_field = pd.DataFrame([[name, acc*100]], columns=result_cols)\n",
    "    result_frame = result_frame.append(acc_field)\n",
    "\n",
    "result_frame"
   ]
  },
  {
   "cell_type": "code",
   "execution_count": 8,
   "metadata": {},
   "outputs": [
    {
     "name": "stdout",
     "output_type": "stream",
     "text": [
      "1,2-grams\n",
      "\n",
      "MultinomialNB accuracy = 91%\n",
      "SGDClassifier accuracy = 89%\n",
      "RandomForestClassifier accuracy = 78%\n"
     ]
    },
    {
     "data": {
      "text/html": [
       "<div>\n",
       "<style scoped>\n",
       "    .dataframe tbody tr th:only-of-type {\n",
       "        vertical-align: middle;\n",
       "    }\n",
       "\n",
       "    .dataframe tbody tr th {\n",
       "        vertical-align: top;\n",
       "    }\n",
       "\n",
       "    .dataframe thead th {\n",
       "        text-align: right;\n",
       "    }\n",
       "</style>\n",
       "<table border=\"1\" class=\"dataframe\">\n",
       "  <thead>\n",
       "    <tr style=\"text-align: right;\">\n",
       "      <th></th>\n",
       "      <th>Classifier</th>\n",
       "      <th>Accuracy</th>\n",
       "    </tr>\n",
       "  </thead>\n",
       "  <tbody>\n",
       "    <tr>\n",
       "      <th>0</th>\n",
       "      <td>MultinomialNB</td>\n",
       "      <td>91.086498</td>\n",
       "    </tr>\n",
       "    <tr>\n",
       "      <th>0</th>\n",
       "      <td>SGDClassifier</td>\n",
       "      <td>88.818565</td>\n",
       "    </tr>\n",
       "    <tr>\n",
       "      <th>0</th>\n",
       "      <td>RandomForestClassifier</td>\n",
       "      <td>78.270042</td>\n",
       "    </tr>\n",
       "  </tbody>\n",
       "</table>\n",
       "</div>"
      ],
      "text/plain": [
       "               Classifier   Accuracy\n",
       "0           MultinomialNB  91.086498\n",
       "0           SGDClassifier  88.818565\n",
       "0  RandomForestClassifier  78.270042"
      ]
     },
     "execution_count": 8,
     "metadata": {},
     "output_type": "execute_result"
    }
   ],
   "source": [
    "print(\"1,2-grams\\n\")\n",
    "\n",
    "result_cols = [\"Classifier\", \"Accuracy\"]\n",
    "result_frame = pd.DataFrame(columns=result_cols)\n",
    "\n",
    "\n",
    "for clf in classifiers:\n",
    "    name = clf.__class__.__name__\n",
    "    text_clf = Pipeline([('vect', CountVectorizer(ngram_range=(1,2))),\n",
    "                         ('clf', clf),])\n",
    "    text_clf.fit(train_data.data, train_data.target)\n",
    "    \n",
    "    predicted = text_clf.predict(test_data.data)\n",
    "    acc = metrics.accuracy_score(test_data.target, predicted)\n",
    "    print (f'{name} accuracy = {acc*100:.0f}%')\n",
    "    acc_field = pd.DataFrame([[name, acc*100]], columns=result_cols)\n",
    "    result_frame = result_frame.append(acc_field)\n",
    "\n",
    "result_frame"
   ]
  },
  {
   "cell_type": "markdown",
   "metadata": {},
   "source": [
    "# Mix it up!"
   ]
  },
  {
   "cell_type": "markdown",
   "metadata": {},
   "source": [
    "Lets train on different sizes, and do it a bunch of times randomly to make sure that we're not just getting lucky / unlucky."
   ]
  },
  {
   "cell_type": "code",
   "execution_count": 9,
   "metadata": {},
   "outputs": [],
   "source": [
    "result_cols = [\"Train Size\", \"Classifier\", \"Accuracy\"]\n",
    "result_frame = pd.DataFrame(columns=result_cols)\n",
    "all_data = fetch_20newsgroups(subset='all', categories=categories, shuffle=True, random_state=42)\n",
    "\n",
    "classifiers = [\n",
    "    MultinomialNB(),\n",
    "    SGDClassifier(alpha=0.1, random_state=42, max_iter=20, tol=0.3),\n",
    "    RandomForestClassifier(n_estimators=100),\n",
    "]"
   ]
  },
  {
   "cell_type": "code",
   "execution_count": 10,
   "metadata": {},
   "outputs": [
    {
     "name": "stdout",
     "output_type": "stream",
     "text": [
      "3000, 0, MultinomialNB: accuracy = 96.50%\n",
      "3000, 1, MultinomialNB: accuracy = 96.80%\n",
      "3000, 2, MultinomialNB: accuracy = 95.80%\n",
      "3000, 3, MultinomialNB: accuracy = 96.30%\n",
      "3000, 4, MultinomialNB: accuracy = 95.70%\n",
      "3000, 0, SGDClassifier: accuracy = 93.10%\n",
      "3000, 1, SGDClassifier: accuracy = 94.30%\n",
      "3000, 2, SGDClassifier: accuracy = 92.60%\n",
      "3000, 3, SGDClassifier: accuracy = 92.20%\n",
      "3000, 4, SGDClassifier: accuracy = 93.30%\n",
      "3000, 0, RandomForestClassifier: accuracy = 89.50%\n",
      "3000, 1, RandomForestClassifier: accuracy = 91.10%\n",
      "3000, 2, RandomForestClassifier: accuracy = 88.20%\n",
      "3000, 3, RandomForestClassifier: accuracy = 88.00%\n",
      "3000, 4, RandomForestClassifier: accuracy = 89.00%\n",
      "1000, 0, MultinomialNB: accuracy = 93.60%\n",
      "1000, 1, MultinomialNB: accuracy = 93.00%\n",
      "1000, 2, MultinomialNB: accuracy = 91.50%\n",
      "1000, 3, MultinomialNB: accuracy = 93.00%\n",
      "1000, 4, MultinomialNB: accuracy = 93.30%\n",
      "1000, 0, SGDClassifier: accuracy = 91.10%\n",
      "1000, 1, SGDClassifier: accuracy = 88.80%\n",
      "1000, 2, SGDClassifier: accuracy = 90.10%\n",
      "1000, 3, SGDClassifier: accuracy = 88.80%\n",
      "1000, 4, SGDClassifier: accuracy = 89.20%\n",
      "1000, 0, RandomForestClassifier: accuracy = 83.60%\n",
      "1000, 1, RandomForestClassifier: accuracy = 87.20%\n",
      "1000, 2, RandomForestClassifier: accuracy = 83.30%\n",
      "1000, 3, RandomForestClassifier: accuracy = 85.90%\n",
      "1000, 4, RandomForestClassifier: accuracy = 80.40%\n",
      "100, 0, MultinomialNB: accuracy = 48.80%\n",
      "100, 1, MultinomialNB: accuracy = 49.10%\n",
      "100, 2, MultinomialNB: accuracy = 70.40%\n",
      "100, 3, MultinomialNB: accuracy = 69.10%\n",
      "100, 4, MultinomialNB: accuracy = 40.50%\n",
      "100, 0, SGDClassifier: accuracy = 54.70%\n",
      "100, 1, SGDClassifier: accuracy = 56.00%\n",
      "100, 2, SGDClassifier: accuracy = 59.60%\n",
      "100, 3, SGDClassifier: accuracy = 54.30%\n",
      "100, 4, SGDClassifier: accuracy = 51.10%\n",
      "100, 0, RandomForestClassifier: accuracy = 47.60%\n",
      "100, 1, RandomForestClassifier: accuracy = 50.00%\n",
      "100, 2, RandomForestClassifier: accuracy = 55.10%\n",
      "100, 3, RandomForestClassifier: accuracy = 43.80%\n",
      "100, 4, RandomForestClassifier: accuracy = 40.30%\n"
     ]
    },
    {
     "data": {
      "text/html": [
       "<div>\n",
       "<style scoped>\n",
       "    .dataframe tbody tr th:only-of-type {\n",
       "        vertical-align: middle;\n",
       "    }\n",
       "\n",
       "    .dataframe tbody tr th {\n",
       "        vertical-align: top;\n",
       "    }\n",
       "\n",
       "    .dataframe thead th {\n",
       "        text-align: right;\n",
       "    }\n",
       "</style>\n",
       "<table border=\"1\" class=\"dataframe\">\n",
       "  <thead>\n",
       "    <tr style=\"text-align: right;\">\n",
       "      <th></th>\n",
       "      <th></th>\n",
       "      <th>Accuracy</th>\n",
       "    </tr>\n",
       "    <tr>\n",
       "      <th>Train Size</th>\n",
       "      <th>Classifier</th>\n",
       "      <th></th>\n",
       "    </tr>\n",
       "  </thead>\n",
       "  <tbody>\n",
       "    <tr>\n",
       "      <th rowspan=\"3\" valign=\"top\">100</th>\n",
       "      <th>MultinomialNB</th>\n",
       "      <td>55.58</td>\n",
       "    </tr>\n",
       "    <tr>\n",
       "      <th>RandomForestClassifier</th>\n",
       "      <td>47.36</td>\n",
       "    </tr>\n",
       "    <tr>\n",
       "      <th>SGDClassifier</th>\n",
       "      <td>55.14</td>\n",
       "    </tr>\n",
       "    <tr>\n",
       "      <th rowspan=\"3\" valign=\"top\">1000</th>\n",
       "      <th>MultinomialNB</th>\n",
       "      <td>92.88</td>\n",
       "    </tr>\n",
       "    <tr>\n",
       "      <th>RandomForestClassifier</th>\n",
       "      <td>84.08</td>\n",
       "    </tr>\n",
       "    <tr>\n",
       "      <th>SGDClassifier</th>\n",
       "      <td>89.60</td>\n",
       "    </tr>\n",
       "    <tr>\n",
       "      <th rowspan=\"3\" valign=\"top\">3000</th>\n",
       "      <th>MultinomialNB</th>\n",
       "      <td>96.22</td>\n",
       "    </tr>\n",
       "    <tr>\n",
       "      <th>RandomForestClassifier</th>\n",
       "      <td>89.16</td>\n",
       "    </tr>\n",
       "    <tr>\n",
       "      <th>SGDClassifier</th>\n",
       "      <td>93.10</td>\n",
       "    </tr>\n",
       "  </tbody>\n",
       "</table>\n",
       "</div>"
      ],
      "text/plain": [
       "                                   Accuracy\n",
       "Train Size Classifier                      \n",
       "100        MultinomialNB              55.58\n",
       "           RandomForestClassifier     47.36\n",
       "           SGDClassifier              55.14\n",
       "1000       MultinomialNB              92.88\n",
       "           RandomForestClassifier     84.08\n",
       "           SGDClassifier              89.60\n",
       "3000       MultinomialNB              96.22\n",
       "           RandomForestClassifier     89.16\n",
       "           SGDClassifier              93.10"
      ]
     },
     "execution_count": 10,
     "metadata": {},
     "output_type": "execute_result"
    }
   ],
   "source": [
    "result_frame = pd.DataFrame(columns=result_cols)\n",
    "for train_size, clf, random_state in product([3000, 1000, 100], classifiers, range(5)):\n",
    "    X_train, X_test, y_train, y_test = train_test_split(all_data.data, all_data.target, \n",
    "                                                        train_size=train_size, test_size=1000,\n",
    "                                                        random_state=random_state)\n",
    "    name = clf.__class__.__name__\n",
    "    text_clf = Pipeline([('vect', CountVectorizer()),\n",
    "                         ('clf', clf),])\n",
    "    text_clf.fit(X_train, y_train)\n",
    "\n",
    "    predicted = text_clf.predict(X_test)\n",
    "    acc = metrics.accuracy_score(y_test, predicted)\n",
    "    print (f'{train_size}, {random_state}, {name}: accuracy = {acc*100:.2f}%',)\n",
    "    acc_field = pd.DataFrame([[len(X_train), name, acc*100]], columns=result_cols)\n",
    "    result_frame = result_frame.append(acc_field)\n",
    "\n",
    "result_frame.groupby(['Train Size', 'Classifier']).mean()"
   ]
  },
  {
   "cell_type": "markdown",
   "metadata": {},
   "source": [
    "### Do 10 times each for Naive Bayes!"
   ]
  },
  {
   "cell_type": "code",
   "execution_count": 11,
   "metadata": {},
   "outputs": [
    {
     "name": "stdout",
     "output_type": "stream",
     "text": [
      "3000, 0, MultinomialNB: accuracy = 95.70%\n",
      "3000, 1, MultinomialNB: accuracy = 95.70%\n",
      "3000, 2, MultinomialNB: accuracy = 97.00%\n",
      "3000, 3, MultinomialNB: accuracy = 95.40%\n",
      "3000, 4, MultinomialNB: accuracy = 96.40%\n",
      "3000, 5, MultinomialNB: accuracy = 96.20%\n",
      "3000, 6, MultinomialNB: accuracy = 96.30%\n",
      "3000, 7, MultinomialNB: accuracy = 96.70%\n",
      "3000, 8, MultinomialNB: accuracy = 95.90%\n",
      "3000, 9, MultinomialNB: accuracy = 96.50%\n",
      "1000, 0, MultinomialNB: accuracy = 94.20%\n",
      "1000, 1, MultinomialNB: accuracy = 93.50%\n",
      "1000, 2, MultinomialNB: accuracy = 93.40%\n",
      "1000, 3, MultinomialNB: accuracy = 93.30%\n",
      "1000, 4, MultinomialNB: accuracy = 94.20%\n",
      "1000, 5, MultinomialNB: accuracy = 94.00%\n",
      "1000, 6, MultinomialNB: accuracy = 90.70%\n",
      "1000, 7, MultinomialNB: accuracy = 94.20%\n",
      "1000, 8, MultinomialNB: accuracy = 91.70%\n",
      "1000, 9, MultinomialNB: accuracy = 92.70%\n",
      "500, 0, MultinomialNB: accuracy = 89.50%\n",
      "500, 1, MultinomialNB: accuracy = 89.60%\n",
      "500, 2, MultinomialNB: accuracy = 89.90%\n",
      "500, 3, MultinomialNB: accuracy = 89.80%\n",
      "500, 4, MultinomialNB: accuracy = 89.20%\n",
      "500, 5, MultinomialNB: accuracy = 90.40%\n",
      "500, 6, MultinomialNB: accuracy = 89.80%\n",
      "500, 7, MultinomialNB: accuracy = 86.70%\n",
      "500, 8, MultinomialNB: accuracy = 88.50%\n",
      "500, 9, MultinomialNB: accuracy = 84.70%\n",
      "100, 0, MultinomialNB: accuracy = 66.50%\n",
      "100, 1, MultinomialNB: accuracy = 60.50%\n",
      "100, 2, MultinomialNB: accuracy = 65.20%\n",
      "100, 3, MultinomialNB: accuracy = 55.80%\n",
      "100, 4, MultinomialNB: accuracy = 64.20%\n",
      "100, 5, MultinomialNB: accuracy = 50.40%\n",
      "100, 6, MultinomialNB: accuracy = 63.00%\n",
      "100, 7, MultinomialNB: accuracy = 65.70%\n",
      "100, 8, MultinomialNB: accuracy = 53.90%\n",
      "100, 9, MultinomialNB: accuracy = 56.70%\n"
     ]
    },
    {
     "data": {
      "text/html": [
       "<div>\n",
       "<style scoped>\n",
       "    .dataframe tbody tr th:only-of-type {\n",
       "        vertical-align: middle;\n",
       "    }\n",
       "\n",
       "    .dataframe tbody tr th {\n",
       "        vertical-align: top;\n",
       "    }\n",
       "\n",
       "    .dataframe thead th {\n",
       "        text-align: right;\n",
       "    }\n",
       "</style>\n",
       "<table border=\"1\" class=\"dataframe\">\n",
       "  <thead>\n",
       "    <tr style=\"text-align: right;\">\n",
       "      <th></th>\n",
       "      <th></th>\n",
       "      <th>Accuracy</th>\n",
       "    </tr>\n",
       "    <tr>\n",
       "      <th>Train Size</th>\n",
       "      <th>Classifier</th>\n",
       "      <th></th>\n",
       "    </tr>\n",
       "  </thead>\n",
       "  <tbody>\n",
       "    <tr>\n",
       "      <th>100</th>\n",
       "      <th>MultinomialNB</th>\n",
       "      <td>60.19</td>\n",
       "    </tr>\n",
       "    <tr>\n",
       "      <th>500</th>\n",
       "      <th>MultinomialNB</th>\n",
       "      <td>88.81</td>\n",
       "    </tr>\n",
       "    <tr>\n",
       "      <th>1000</th>\n",
       "      <th>MultinomialNB</th>\n",
       "      <td>93.19</td>\n",
       "    </tr>\n",
       "    <tr>\n",
       "      <th>3000</th>\n",
       "      <th>MultinomialNB</th>\n",
       "      <td>96.18</td>\n",
       "    </tr>\n",
       "  </tbody>\n",
       "</table>\n",
       "</div>"
      ],
      "text/plain": [
       "                          Accuracy\n",
       "Train Size Classifier             \n",
       "100        MultinomialNB     60.19\n",
       "500        MultinomialNB     88.81\n",
       "1000       MultinomialNB     93.19\n",
       "3000       MultinomialNB     96.18"
      ]
     },
     "execution_count": 11,
     "metadata": {},
     "output_type": "execute_result"
    }
   ],
   "source": [
    "result_cols = [\"Train Size\", \"Classifier\", \"Accuracy\"]\n",
    "result_frame = pd.DataFrame(columns=result_cols)\n",
    "all_data = fetch_20newsgroups(subset='all', categories=categories, shuffle=True)\n",
    "\n",
    "classifiers = [\n",
    "    MultinomialNB(),\n",
    "]\n",
    "\n",
    "result_frame = pd.DataFrame(columns=result_cols)\n",
    "for train_size, clf, random_state in product([3000, 1000, 500, 100], classifiers, range(10)):\n",
    "    X_train, X_test, y_train, y_test = train_test_split(all_data.data, all_data.target, \n",
    "                                                        train_size=train_size, test_size=1000)\n",
    "    name = clf.__class__.__name__\n",
    "    text_clf = Pipeline([('vect', CountVectorizer()),\n",
    "                         ('clf', clf),])\n",
    "    text_clf.fit(X_train, y_train)\n",
    "\n",
    "    predicted = text_clf.predict(X_test)\n",
    "    acc = metrics.accuracy_score(y_test, predicted)\n",
    "    print (f'{train_size}, {random_state}, {name}: accuracy = {acc*100:.2f}%',)\n",
    "    acc_field = pd.DataFrame([[len(X_train), name, acc*100]], columns=result_cols)\n",
    "    result_frame = result_frame.append(acc_field)\n",
    "\n",
    "result_frame.groupby(['Train Size', 'Classifier']).mean()"
   ]
  },
  {
   "cell_type": "code",
   "execution_count": null,
   "metadata": {},
   "outputs": [],
   "source": []
  }
 ],
 "metadata": {
  "kernelspec": {
   "display_name": "Python 3",
   "language": "python",
   "name": "python3"
  },
  "language_info": {
   "codemirror_mode": {
    "name": "ipython",
    "version": 3
   },
   "file_extension": ".py",
   "mimetype": "text/x-python",
   "name": "python",
   "nbconvert_exporter": "python",
   "pygments_lexer": "ipython3",
   "version": "3.6.4"
  }
 },
 "nbformat": 4,
 "nbformat_minor": 2
}
