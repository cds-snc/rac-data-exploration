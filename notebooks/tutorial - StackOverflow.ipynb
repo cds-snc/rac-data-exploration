{
 "cells": [
  {
   "cell_type": "markdown",
   "metadata": {},
   "source": [
    "Starting point: https://cloud.google.com/blog/products/gcp/intro-to-text-classification-with-keras-automatically-tagging-stack-overflow-posts"
   ]
  },
  {
   "cell_type": "code",
   "execution_count": 1,
   "metadata": {},
   "outputs": [],
   "source": [
    "import pandas as pd\n",
    "from sklearn import metrics\n",
    "from sklearn.feature_extraction.text import CountVectorizer, TfidfTransformer\n",
    "from sklearn.naive_bayes import MultinomialNB\n",
    "from sklearn.linear_model import SGDClassifier\n",
    "from sklearn.pipeline import Pipeline\n",
    "import numpy as np\n",
    "import seaborn as sns"
   ]
  },
  {
   "cell_type": "markdown",
   "metadata": {},
   "source": [
    "# Data, data, data"
   ]
  },
  {
   "cell_type": "markdown",
   "metadata": {},
   "source": [
    "We have 5000 StackOverflow posts that have only one tag. We want to use the post to predict what the tag is."
   ]
  },
  {
   "cell_type": "code",
   "execution_count": 2,
   "metadata": {},
   "outputs": [
    {
     "data": {
      "text/html": [
       "<div>\n",
       "<style scoped>\n",
       "    .dataframe tbody tr th:only-of-type {\n",
       "        vertical-align: middle;\n",
       "    }\n",
       "\n",
       "    .dataframe tbody tr th {\n",
       "        vertical-align: top;\n",
       "    }\n",
       "\n",
       "    .dataframe thead th {\n",
       "        text-align: right;\n",
       "    }\n",
       "</style>\n",
       "<table border=\"1\" class=\"dataframe\">\n",
       "  <thead>\n",
       "    <tr style=\"text-align: right;\">\n",
       "      <th></th>\n",
       "      <th>post</th>\n",
       "      <th>tag</th>\n",
       "    </tr>\n",
       "  </thead>\n",
       "  <tbody>\n",
       "    <tr>\n",
       "      <th>0</th>\n",
       "      <td>getting absolute path of directory  how do i g...</td>\n",
       "      <td>python</td>\n",
       "    </tr>\n",
       "    <tr>\n",
       "      <th>1</th>\n",
       "      <td>css  page header/colours show up in safari but...</td>\n",
       "      <td>css</td>\n",
       "    </tr>\n",
       "    <tr>\n",
       "      <th>2</th>\n",
       "      <td>position absolute is not within the relative p...</td>\n",
       "      <td>css</td>\n",
       "    </tr>\n",
       "    <tr>\n",
       "      <th>3</th>\n",
       "      <td>extracting individual items resulting from a s...</td>\n",
       "      <td>python</td>\n",
       "    </tr>\n",
       "    <tr>\n",
       "      <th>4</th>\n",
       "      <td>resizable backgrounds  ok i need to make a who...</td>\n",
       "      <td>css</td>\n",
       "    </tr>\n",
       "    <tr>\n",
       "      <th>5</th>\n",
       "      <td>why aren t these two divs displayed how i expe...</td>\n",
       "      <td>html</td>\n",
       "    </tr>\n",
       "    <tr>\n",
       "      <th>6</th>\n",
       "      <td>strange height size top menu  in my top menu f...</td>\n",
       "      <td>css</td>\n",
       "    </tr>\n",
       "    <tr>\n",
       "      <th>7</th>\n",
       "      <td>what is the space between these elements   wha...</td>\n",
       "      <td>html</td>\n",
       "    </tr>\n",
       "    <tr>\n",
       "      <th>8</th>\n",
       "      <td>javascript missing semicolon   so i am using j...</td>\n",
       "      <td>javascript</td>\n",
       "    </tr>\n",
       "    <tr>\n",
       "      <th>9</th>\n",
       "      <td>how can we link a html button   i would like t...</td>\n",
       "      <td>html</td>\n",
       "    </tr>\n",
       "  </tbody>\n",
       "</table>\n",
       "</div>"
      ],
      "text/plain": [
       "                                                post         tag\n",
       "0  getting absolute path of directory  how do i g...      python\n",
       "1  css  page header/colours show up in safari but...         css\n",
       "2  position absolute is not within the relative p...         css\n",
       "3  extracting individual items resulting from a s...      python\n",
       "4  resizable backgrounds  ok i need to make a who...         css\n",
       "5  why aren t these two divs displayed how i expe...        html\n",
       "6  strange height size top menu  in my top menu f...         css\n",
       "7  what is the space between these elements   wha...        html\n",
       "8  javascript missing semicolon   so i am using j...  javascript\n",
       "9  how can we link a html button   i would like t...        html"
      ]
     },
     "execution_count": 2,
     "metadata": {},
     "output_type": "execute_result"
    }
   ],
   "source": [
    "raw_data = pd.read_csv('../data/stackOverflow.csv')\n",
    "raw_data.head(10)"
   ]
  },
  {
   "cell_type": "code",
   "execution_count": 3,
   "metadata": {},
   "outputs": [
    {
     "data": {
      "text/plain": [
       "array(['python', 'css', 'html', 'javascript', 'jquery'], dtype=object)"
      ]
     },
     "execution_count": 3,
     "metadata": {},
     "output_type": "execute_result"
    }
   ],
   "source": [
    "raw_data.tag.unique()"
   ]
  },
  {
   "cell_type": "markdown",
   "metadata": {},
   "source": [
    "The tag words probably often occur in the posts, so let's strip them out to make things a bit more challenging."
   ]
  },
  {
   "cell_type": "code",
   "execution_count": 4,
   "metadata": {},
   "outputs": [],
   "source": [
    "data = raw_data.copy()\n",
    "tags = data.tag.unique()\n",
    "\n",
    "def tag_stripper(s):\n",
    "    return ' '.join(filter((lambda w: w not in tags), s.split()))\n",
    "\n",
    "data['post'] = data.post.apply(tag_stripper)"
   ]
  },
  {
   "cell_type": "code",
   "execution_count": 5,
   "metadata": {},
   "outputs": [
    {
     "data": {
      "text/html": [
       "<div>\n",
       "<style scoped>\n",
       "    .dataframe tbody tr th:only-of-type {\n",
       "        vertical-align: middle;\n",
       "    }\n",
       "\n",
       "    .dataframe tbody tr th {\n",
       "        vertical-align: top;\n",
       "    }\n",
       "\n",
       "    .dataframe thead th {\n",
       "        text-align: right;\n",
       "    }\n",
       "</style>\n",
       "<table border=\"1\" class=\"dataframe\">\n",
       "  <thead>\n",
       "    <tr style=\"text-align: right;\">\n",
       "      <th></th>\n",
       "      <th>post</th>\n",
       "      <th>tag</th>\n",
       "    </tr>\n",
       "  </thead>\n",
       "  <tbody>\n",
       "    <tr>\n",
       "      <th>0</th>\n",
       "      <td>getting absolute path of directory how do i ge...</td>\n",
       "      <td>python</td>\n",
       "    </tr>\n",
       "    <tr>\n",
       "      <th>1</th>\n",
       "      <td>page header/colours show up in safari but not ...</td>\n",
       "      <td>css</td>\n",
       "    </tr>\n",
       "    <tr>\n",
       "      <th>2</th>\n",
       "      <td>position absolute is not within the relative p...</td>\n",
       "      <td>css</td>\n",
       "    </tr>\n",
       "    <tr>\n",
       "      <th>3</th>\n",
       "      <td>extracting individual items resulting from a s...</td>\n",
       "      <td>python</td>\n",
       "    </tr>\n",
       "    <tr>\n",
       "      <th>4</th>\n",
       "      <td>resizable backgrounds ok i need to make a whol...</td>\n",
       "      <td>css</td>\n",
       "    </tr>\n",
       "    <tr>\n",
       "      <th>5</th>\n",
       "      <td>why aren t these two divs displayed how i expe...</td>\n",
       "      <td>html</td>\n",
       "    </tr>\n",
       "    <tr>\n",
       "      <th>6</th>\n",
       "      <td>strange height size top menu in my top menu fo...</td>\n",
       "      <td>css</td>\n",
       "    </tr>\n",
       "    <tr>\n",
       "      <th>7</th>\n",
       "      <td>what is the space between these elements what ...</td>\n",
       "      <td>html</td>\n",
       "    </tr>\n",
       "    <tr>\n",
       "      <th>8</th>\n",
       "      <td>missing semicolon so i am using jsfiddle.net t...</td>\n",
       "      <td>javascript</td>\n",
       "    </tr>\n",
       "    <tr>\n",
       "      <th>9</th>\n",
       "      <td>how can we link a button i would like to creat...</td>\n",
       "      <td>html</td>\n",
       "    </tr>\n",
       "  </tbody>\n",
       "</table>\n",
       "</div>"
      ],
      "text/plain": [
       "                                                post         tag\n",
       "0  getting absolute path of directory how do i ge...      python\n",
       "1  page header/colours show up in safari but not ...         css\n",
       "2  position absolute is not within the relative p...         css\n",
       "3  extracting individual items resulting from a s...      python\n",
       "4  resizable backgrounds ok i need to make a whol...         css\n",
       "5  why aren t these two divs displayed how i expe...        html\n",
       "6  strange height size top menu in my top menu fo...         css\n",
       "7  what is the space between these elements what ...        html\n",
       "8  missing semicolon so i am using jsfiddle.net t...  javascript\n",
       "9  how can we link a button i would like to creat...        html"
      ]
     },
     "execution_count": 5,
     "metadata": {},
     "output_type": "execute_result"
    }
   ],
   "source": [
    "data.head(10)"
   ]
  },
  {
   "cell_type": "markdown",
   "metadata": {},
   "source": [
    "### How long are the posts?"
   ]
  },
  {
   "cell_type": "code",
   "execution_count": 6,
   "metadata": {},
   "outputs": [
    {
     "data": {
      "text/plain": [
       "<matplotlib.axes._subplots.AxesSubplot at 0x120427fd0>"
      ]
     },
     "execution_count": 6,
     "metadata": {},
     "output_type": "execute_result"
    },
    {
     "data": {
      "image/png": "[encoded data removed]",
      "text/plain": [
       "<Figure size 432x288 with 1 Axes>"
      ]
     },
     "metadata": {
      "needs_background": "light"
     },
     "output_type": "display_data"
    }
   ],
   "source": [
    "post_lengths = data.post.apply(lambda s: len(s.split()))\n",
    "sns.distplot(post_lengths, axlabel=\"number of words\")"
   ]
  },
  {
   "cell_type": "code",
   "execution_count": 7,
   "metadata": {},
   "outputs": [
    {
     "name": "stdout",
     "output_type": "stream",
     "text": [
      "The average length of the posts in 138.532 words, with half the posts having less than 105.0 words.\n"
     ]
    },
    {
     "data": {
      "text/plain": [
       "count    5000.00000\n",
       "mean      138.53200\n",
       "std       139.37451\n",
       "min         8.00000\n",
       "25%        68.00000\n",
       "50%       105.00000\n",
       "75%       162.00000\n",
       "max      3019.00000\n",
       "Name: post, dtype: float64"
      ]
     },
     "execution_count": 7,
     "metadata": {},
     "output_type": "execute_result"
    }
   ],
   "source": [
    "avg_length = np.mean(post_lengths)\n",
    "median_length = np.median(post_lengths)\n",
    "\n",
    "print(f\"The average length of the posts in {avg_length} words, with half the posts having less than {median_length} words.\")\n",
    "post_lengths.describe()"
   ]
  },
  {
   "cell_type": "markdown",
   "metadata": {},
   "source": [
    "### Split into training data and testing data"
   ]
  },
  {
   "cell_type": "markdown",
   "metadata": {},
   "source": [
    "It is **crucial** that we test our classifier using data that was **not** used to build. We split the data into two chunks, the data used to train (ie. build) the classifier, and the data we will later use to test it."
   ]
  },
  {
   "cell_type": "code",
   "execution_count": 8,
   "metadata": {},
   "outputs": [
    {
     "name": "stdout",
     "output_type": "stream",
     "text": [
      "Training on 4000 rows\n",
      "Testing on 1000 rows\n"
     ]
    }
   ],
   "source": [
    "train_data = data[:4000]\n",
    "test_data = data[4000:]\n",
    "print(f\"Training on {len(train_data)} rows\")\n",
    "print(f\"Testing on {len(test_data)} rows\")"
   ]
  },
  {
   "cell_type": "markdown",
   "metadata": {},
   "source": [
    "# Build a classifier!"
   ]
  },
  {
   "cell_type": "markdown",
   "metadata": {},
   "source": [
    "### Convert posts to word counts"
   ]
  },
  {
   "cell_type": "markdown",
   "metadata": {},
   "source": [
    "We will use a **bag of words** approach. Here we ignore what the posts mean, and we even ignore the order of the words in the post. (!) All that matters is the number of times each word appears.\n",
    "\n",
    "We convert the words into numbers, and the posts into vectors of word counts."
   ]
  },
  {
   "cell_type": "code",
   "execution_count": 9,
   "metadata": {},
   "outputs": [],
   "source": [
    "vectorizer = CountVectorizer()\n",
    "word_counts = vectorizer.fit_transform(train_data.post)"
   ]
  },
  {
   "cell_type": "code",
   "execution_count": 10,
   "metadata": {},
   "outputs": [
    {
     "name": "stdout",
     "output_type": "stream",
     "text": [
      "Number of words in the training data: 26878\n",
      "first 10: 00, 000, 0000, 00000, 000000, 0000000, 000000000, 00001, 0000121593475342, 000016\n",
      "middle 10: ideal, ideally, idealy, ideas, ident, identical, identically, identifications, identified, identifier\n"
     ]
    }
   ],
   "source": [
    "print(f\"Number of words in the training data: {len(vectorizer.get_feature_names())}\")\n",
    "print(f\"first 10: {', '.join(vectorizer.get_feature_names()[:10])}\")\n",
    "print(f\"middle 10: {', '.join(vectorizer.get_feature_names()[13000:13010])}\")"
   ]
  },
  {
   "cell_type": "markdown",
   "metadata": {},
   "source": [
    "Lets look at the first post."
   ]
  },
  {
   "cell_type": "code",
   "execution_count": 11,
   "metadata": {},
   "outputs": [
    {
     "name": "stdout",
     "output_type": "stream",
     "text": [
      " tag: python\n",
      "post: getting absolute path of directory how do i get the absolute path of a directory (it has to be any directory not the current one!) in i tried with <code>os.path.listdir()</code> but it yields only the relative one. thanks!\n"
     ]
    }
   ],
   "source": [
    "print(f\" tag: {train_data.tag.tolist()[0]}\")\n",
    "print(f\"post: {train_data.post.tolist()[0]}\")"
   ]
  },
  {
   "cell_type": "code",
   "execution_count": 12,
   "metadata": {},
   "outputs": [
    {
     "data": {
      "text/plain": [
       "<1x26878 sparse matrix of type '<class 'numpy.int64'>'\n",
       "\twith 28 stored elements in Compressed Sparse Row format>"
      ]
     },
     "execution_count": 12,
     "metadata": {},
     "output_type": "execute_result"
    }
   ],
   "source": [
    "word_counts[0]"
   ]
  },
  {
   "cell_type": "markdown",
   "metadata": {},
   "source": [
    "The first post has 28 different words. We encode it as a sparse vector rather than one that's almost all zeros."
   ]
  },
  {
   "cell_type": "code",
   "execution_count": 13,
   "metadata": {},
   "outputs": [
    {
     "name": "stdout",
     "output_type": "stream",
     "text": [
      "  (0, 23915)\t1\n",
      "  (0, 20271)\t1\n",
      "  (0, 17659)\t1\n",
      "  (0, 26612)\t1\n",
      "  (0, 5930)\t1\n",
      "  (0, 15095)\t1\n",
      "  (0, 17903)\t1\n",
      "  (0, 6946)\t2\n",
      "  (0, 26169)\t1\n",
      "  (0, 24558)\t1\n",
      "  (0, 13266)\t1\n",
      "  (0, 17627)\t2\n",
      "  (0, 7983)\t1\n",
      "  (0, 17186)\t1\n",
      "  (0, 4309)\t1\n",
      "  (0, 5159)\t1\n",
      "  (0, 24237)\t1\n",
      "  (0, 12420)\t1\n",
      "  (0, 13925)\t2\n",
      "  (0, 23923)\t3\n",
      "  (0, 11721)\t1\n",
      "  (0, 9133)\t1\n",
      "  (0, 12803)\t1\n",
      "  (0, 8914)\t3\n",
      "  (0, 17515)\t2\n",
      "  (0, 18367)\t3\n",
      "  (0, 3495)\t2\n",
      "  (0, 11901)\t1\n"
     ]
    }
   ],
   "source": [
    "print(word_counts[0])"
   ]
  },
  {
   "cell_type": "code",
   "execution_count": 14,
   "metadata": {},
   "outputs": [
    {
     "data": {
      "text/plain": [
       "'directory'"
      ]
     },
     "execution_count": 14,
     "metadata": {},
     "output_type": "execute_result"
    }
   ],
   "source": [
    "vectorizer.get_feature_names()[8914]"
   ]
  },
  {
   "cell_type": "markdown",
   "metadata": {},
   "source": [
    "### Naively classifying"
   ]
  },
  {
   "cell_type": "markdown",
   "metadata": {},
   "source": [
    "Our classifier will have two steps. First we convert the data into word counts as above. Then we use these word counts in a Naive Bayes classifier. \n",
    "\n",
    "This is pretty much the simplest classifier we can use. It has few parameters but makes lots of assumptions about the data that are totally wrong. \n",
    "\n",
    "For example, it assumes that the words appear independently, ie one word appearing in a post doesn't change the likelihood of one of the other words appearing.\n",
    "\n",
    "Since our posts are sentences, this is really wrong."
   ]
  },
  {
   "cell_type": "code",
   "execution_count": 78,
   "metadata": {},
   "outputs": [
    {
     "data": {
      "text/plain": [
       "Pipeline(memory=None,\n",
       "     steps=[('vect', CountVectorizer(analyzer='word', binary=False, decode_error='strict',\n",
       "        dtype=<class 'numpy.int64'>, encoding='utf-8', input='content',\n",
       "        lowercase=True, max_df=1.0, max_features=None, min_df=1,\n",
       "        ngram_range=(1, 1), preprocessor=None, stop_words=None,\n",
       "        strip_accents=None, token_pattern='(?u)\\\\b\\\\w\\\\w+\\\\b',\n",
       "        tokenizer=None, vocabulary=None)), ('clf', MultinomialNB(alpha=1.0, class_prior=None, fit_prior=True))])"
      ]
     },
     "execution_count": 78,
     "metadata": {},
     "output_type": "execute_result"
    }
   ],
   "source": [
    "classifier = Pipeline([\n",
    "    ('vect', CountVectorizer()),\n",
    "    ('clf', MultinomialNB()),\n",
    "])\n",
    "\n",
    "classifier.fit(train_data.post, train_data.tag)"
   ]
  },
  {
   "cell_type": "code",
   "execution_count": 80,
   "metadata": {},
   "outputs": [
    {
     "name": "stdout",
     "output_type": "stream",
     "text": [
      "Average chance that a prediction is correct: 73%\n",
      "Not terrible!\n"
     ]
    }
   ],
   "source": [
    "predictions = classifier.predict(test_data.post)\n",
    "accuracy = metrics.accuracy_score(test_data.tag, predictions)\n",
    "print(f\"Average chance that a prediction is correct: {accuracy * 100:.0f}%\")\n",
    "print(\"Not terrible!\")"
   ]
  },
  {
   "cell_type": "markdown",
   "metadata": {},
   "source": [
    "A **confusion matrix** shows us how many things got classified as other things."
   ]
  },
  {
   "cell_type": "code",
   "execution_count": 17,
   "metadata": {},
   "outputs": [
    {
     "data": {
      "text/html": [
       "<div>\n",
       "<style scoped>\n",
       "    .dataframe tbody tr th:only-of-type {\n",
       "        vertical-align: middle;\n",
       "    }\n",
       "\n",
       "    .dataframe tbody tr th {\n",
       "        vertical-align: top;\n",
       "    }\n",
       "\n",
       "    .dataframe thead tr th {\n",
       "        text-align: left;\n",
       "    }\n",
       "</style>\n",
       "<table border=\"1\" class=\"dataframe\">\n",
       "  <thead>\n",
       "    <tr>\n",
       "      <th></th>\n",
       "      <th></th>\n",
       "      <th colspan=\"5\" halign=\"left\">predicted</th>\n",
       "      <th>Count</th>\n",
       "    </tr>\n",
       "    <tr>\n",
       "      <th></th>\n",
       "      <th></th>\n",
       "      <th>python</th>\n",
       "      <th>jquery</th>\n",
       "      <th>javascript</th>\n",
       "      <th>css</th>\n",
       "      <th>html</th>\n",
       "      <th></th>\n",
       "    </tr>\n",
       "  </thead>\n",
       "  <tbody>\n",
       "    <tr>\n",
       "      <th rowspan=\"6\" valign=\"top\">actual</th>\n",
       "      <th>python</th>\n",
       "      <td>184</td>\n",
       "      <td>0</td>\n",
       "      <td>4</td>\n",
       "      <td>2</td>\n",
       "      <td>0</td>\n",
       "      <td>190</td>\n",
       "    </tr>\n",
       "    <tr>\n",
       "      <th>jquery</th>\n",
       "      <td>5</td>\n",
       "      <td>133</td>\n",
       "      <td>37</td>\n",
       "      <td>4</td>\n",
       "      <td>16</td>\n",
       "      <td>195</td>\n",
       "    </tr>\n",
       "    <tr>\n",
       "      <th>javascript</th>\n",
       "      <td>23</td>\n",
       "      <td>28</td>\n",
       "      <td>138</td>\n",
       "      <td>6</td>\n",
       "      <td>13</td>\n",
       "      <td>208</td>\n",
       "    </tr>\n",
       "    <tr>\n",
       "      <th>css</th>\n",
       "      <td>3</td>\n",
       "      <td>8</td>\n",
       "      <td>6</td>\n",
       "      <td>162</td>\n",
       "      <td>23</td>\n",
       "      <td>202</td>\n",
       "    </tr>\n",
       "    <tr>\n",
       "      <th>html</th>\n",
       "      <td>19</td>\n",
       "      <td>24</td>\n",
       "      <td>15</td>\n",
       "      <td>35</td>\n",
       "      <td>112</td>\n",
       "      <td>205</td>\n",
       "    </tr>\n",
       "    <tr>\n",
       "      <th>Count</th>\n",
       "      <td>234</td>\n",
       "      <td>193</td>\n",
       "      <td>200</td>\n",
       "      <td>209</td>\n",
       "      <td>164</td>\n",
       "      <td>1000</td>\n",
       "    </tr>\n",
       "  </tbody>\n",
       "</table>\n",
       "</div>"
      ],
      "text/plain": [
       "                  predicted                             Count\n",
       "                     python jquery javascript  css html      \n",
       "actual python           184      0          4    2    0   190\n",
       "       jquery             5    133         37    4   16   195\n",
       "       javascript        23     28        138    6   13   208\n",
       "       css                3      8          6  162   23   202\n",
       "       html              19     24         15   35  112   205\n",
       "       Count            234    193        200  209  164  1000"
      ]
     },
     "execution_count": 17,
     "metadata": {},
     "output_type": "execute_result"
    }
   ],
   "source": [
    "tags = test_data.tag.unique()\n",
    "row_index = pd.MultiIndex.from_tuples([('actual', x) for x in tags])\n",
    "col_index = pd.MultiIndex.from_tuples([('predicted', x) for x in tags])\n",
    "confusion_matrix = metrics.confusion_matrix(test_data.tag, predictions, labels=tags)\n",
    "\n",
    "df = pd.DataFrame(confusion_matrix, index=row_index, columns=col_index)\n",
    "df['Count'] = df[df.columns].sum(axis=1)\n",
    "s = df.sum()\n",
    "s.name = ('actual', \"Count\")\n",
    "df = df.append(s)\n",
    "\n",
    "confusion_matrix_4000 = df\n",
    "confusion_matrix_4000"
   ]
  },
  {
   "cell_type": "markdown",
   "metadata": {},
   "source": [
    "Three important measures of how good a classifier is are **precision**, **recall** and **f1-score**. Values of 1 is good, zero is bad."
   ]
  },
  {
   "cell_type": "markdown",
   "metadata": {},
   "source": [
    "\\begin{align}\n",
    "\\text{precision of tag} & = \\frac {\\text {number with that tag guessed correctly}} \n",
    "                                        {\\text{total number of times we guessed that tag}} \\\\\n",
    "                             & = \\text {how much of our guesses of that tag were correct} \\\\\n",
    "                             \\\\\n",
    "\\text{recall of tag} &= \\frac {\\text {number with that tag guessed correctly}} \n",
    "                                        {\\text{number with that tag}} \\\\\n",
    "                          &= \\text {how much of that tag we guessed correctly} \\\\\n",
    "                          \\\\\n",
    "\\text{f1-score} &= \\text{combination of precision and recall} \\\\\n",
    "\\end{align}\n",
    "\n",
    "\n"
   ]
  },
  {
   "cell_type": "code",
   "execution_count": 18,
   "metadata": {},
   "outputs": [
    {
     "name": "stdout",
     "output_type": "stream",
     "text": [
      "              precision    recall  f1-score   support\n",
      "\n",
      "         css       0.78      0.80      0.79       202\n",
      "        html       0.68      0.55      0.61       205\n",
      "  javascript       0.69      0.66      0.68       208\n",
      "      jquery       0.69      0.68      0.69       195\n",
      "      python       0.79      0.97      0.87       190\n",
      "\n",
      "   micro avg       0.73      0.73      0.73      1000\n",
      "   macro avg       0.72      0.73      0.73      1000\n",
      "weighted avg       0.72      0.73      0.72      1000\n",
      "\n"
     ]
    }
   ],
   "source": [
    "print(metrics.classification_report(y_true=test_data.tag, y_pred=predictions))"
   ]
  },
  {
   "cell_type": "markdown",
   "metadata": {},
   "source": [
    "### What if we don't have much data?"
   ]
  },
  {
   "cell_type": "code",
   "execution_count": 82,
   "metadata": {},
   "outputs": [
    {
     "name": "stdout",
     "output_type": "stream",
     "text": [
      "Training on 100 rows\n",
      "Testing on 1000 rows\n"
     ]
    }
   ],
   "source": [
    "train_data = data[:100]\n",
    "print(f\"Training on {len(train_data)} rows\")\n",
    "print(f\"Testing on {len(test_data)} rows\")"
   ]
  },
  {
   "cell_type": "code",
   "execution_count": 83,
   "metadata": {
    "scrolled": false
   },
   "outputs": [
    {
     "name": "stdout",
     "output_type": "stream",
     "text": [
      "Previous chance that a prediction was correct: 73%\n",
      "      New chance that a prediction is correct: 56%\n"
     ]
    }
   ],
   "source": [
    "classifier = Pipeline([\n",
    "    ('vect', CountVectorizer()),\n",
    "    ('clf', MultinomialNB()),\n",
    "])\n",
    "\n",
    "classifier.fit(train_data.post, train_data.tag)\n",
    "accuracy = metrics.accuracy_score(test_data.tag, predictions)\n",
    "print(f\"Previous chance that a prediction was correct: {accuracy * 100:.0f}%\")\n",
    "predictions = classifier.predict(test_data.post)\n",
    "accuracy = metrics.accuracy_score(test_data.tag, predictions)\n",
    "print(f\"      New chance that a prediction is correct: {accuracy * 100:.0f}%\")"
   ]
  },
  {
   "cell_type": "code",
   "execution_count": 84,
   "metadata": {},
   "outputs": [
    {
     "name": "stdout",
     "output_type": "stream",
     "text": [
      "              precision    recall  f1-score   support\n",
      "\n",
      "         css       0.58      0.76      0.66       202\n",
      "        html       0.51      0.43      0.47       205\n",
      "  javascript       0.44      0.78      0.57       208\n",
      "      jquery       0.73      0.24      0.36       195\n",
      "      python       0.83      0.58      0.68       190\n",
      "\n",
      "   micro avg       0.56      0.56      0.56      1000\n",
      "   macro avg       0.62      0.56      0.55      1000\n",
      "weighted avg       0.62      0.56      0.55      1000\n",
      "\n"
     ]
    }
   ],
   "source": [
    "print(metrics.classification_report(y_true=test_data.tag, y_pred=predictions))"
   ]
  },
  {
   "cell_type": "code",
   "execution_count": 85,
   "metadata": {},
   "outputs": [
    {
     "name": "stdout",
     "output_type": "stream",
     "text": [
      "So we only have a 56% change of being right.\n",
      "But we only trained with 100 posts, ie. about 20 per tag.\n",
      "If we guessed randomly we'd have a 1 / 5 = 20% chance of being right.\n",
      "With very little data we boosted that to 56%.\n"
     ]
    }
   ],
   "source": [
    "print(f\"So we only have a {accuracy * 100:.0f}% change of being right.\")\n",
    "print(\"But we only trained with 100 posts, ie. about 20 per tag.\")\n",
    "print(\"If we guessed randomly we'd have a 1 / 5 = 20% chance of being right.\")\n",
    "print(f\"With very little data we boosted that to {accuracy * 100:.0f}%.\")"
   ]
  },
  {
   "cell_type": "markdown",
   "metadata": {},
   "source": [
    "# Tweak things"
   ]
  },
  {
   "cell_type": "markdown",
   "metadata": {},
   "source": [
    "### Stop words"
   ]
  },
  {
   "cell_type": "markdown",
   "metadata": {},
   "source": [
    "**Stop words** are words that have no information value, such as `the`, `a`, or `or`. Removing them from our data might improve things."
   ]
  },
  {
   "cell_type": "markdown",
   "metadata": {},
   "source": [
    "### n-grams"
   ]
  },
  {
   "cell_type": "markdown",
   "metadata": {},
   "source": [
    "We used word counts. What if instead we counted pairs of words? Or triples?"
   ]
  },
  {
   "cell_type": "markdown",
   "metadata": {},
   "source": [
    "### Normalize word counts"
   ]
  },
  {
   "cell_type": "markdown",
   "metadata": {},
   "source": [
    "If a document is really long it will in general have higher word counts, so it might seem to be more relavant than a shorter doccument which uses key words relatively more often. \n",
    "\n",
    "To counter this we usually normalize the counts by the length of the document in some fashion.\n",
    "\n",
    "Also, if a word occurs in most of the documents, it probably doesn't have much information value. So we want to reduce its score.\n",
    "\n",
    "A common way to do both of these is to calculate the Term Frequency Inverse Document Frequency (TFIDF)."
   ]
  },
  {
   "cell_type": "markdown",
   "metadata": {},
   "source": [
    "## Let's try these!"
   ]
  },
  {
   "cell_type": "code",
   "execution_count": 86,
   "metadata": {},
   "outputs": [],
   "source": [
    "train_data = data[:4000]\n",
    "test_data = data[4000:]"
   ]
  },
  {
   "cell_type": "markdown",
   "metadata": {},
   "source": [
    "### Original Naive Bayes"
   ]
  },
  {
   "cell_type": "code",
   "execution_count": 28,
   "metadata": {},
   "outputs": [
    {
     "name": "stdout",
     "output_type": "stream",
     "text": [
      "Original chance that a prediction is correct: 73%\n"
     ]
    }
   ],
   "source": [
    "classifier = Pipeline([\n",
    "    ('vect', CountVectorizer()),\n",
    "    ('clf', MultinomialNB()),\n",
    "])\n",
    "\n",
    "classifier.fit(train_data.post, train_data.tag)\n",
    "predictions = classifier.predict(test_data.post)\n",
    "print(f\"Original chance that a prediction is correct: {np.mean(predictions == test_data.tag) * 100:.0f}%\")"
   ]
  },
  {
   "cell_type": "markdown",
   "metadata": {},
   "source": [
    "### TFIDF"
   ]
  },
  {
   "cell_type": "code",
   "execution_count": 29,
   "metadata": {},
   "outputs": [
    {
     "name": "stdout",
     "output_type": "stream",
     "text": [
      "Original chance that a prediction is correct: 74%\n"
     ]
    }
   ],
   "source": [
    "classifier = Pipeline([\n",
    "    ('vect', CountVectorizer()),\n",
    "    ('tfidf', TfidfTransformer()),\n",
    "    ('clf', MultinomialNB()),\n",
    "])\n",
    "\n",
    "classifier.fit(train_data.post, train_data.tag)\n",
    "predictions = classifier.predict(test_data.post)\n",
    "print(f\"Original chance that a prediction is correct: {np.mean(predictions == test_data.tag) * 100:.0f}%\")"
   ]
  },
  {
   "cell_type": "markdown",
   "metadata": {},
   "source": [
    "### Try stopwords"
   ]
  },
  {
   "cell_type": "code",
   "execution_count": 87,
   "metadata": {},
   "outputs": [
    {
     "name": "stdout",
     "output_type": "stream",
     "text": [
      "Stopwords chance that a prediction is correct: 73%\n"
     ]
    }
   ],
   "source": [
    "classifier = Pipeline([\n",
    "    ('vect', CountVectorizer(stop_words='english')),\n",
    "    ('clf', MultinomialNB()),\n",
    "])\n",
    "\n",
    "classifier.fit(train_data.post, train_data.tag)\n",
    "predictions = classifier.predict(test_data.post)\n",
    "print(f\"Stopwords chance that a prediction is correct: {np.mean(predictions == test_data.tag) * 100:.0f}%\")"
   ]
  },
  {
   "cell_type": "markdown",
   "metadata": {},
   "source": [
    "### Try n-grams"
   ]
  },
  {
   "cell_type": "code",
   "execution_count": 31,
   "metadata": {},
   "outputs": [
    {
     "name": "stdout",
     "output_type": "stream",
     "text": [
      "2-grams chance that a prediction is correct: 76%\n"
     ]
    }
   ],
   "source": [
    "classifier = Pipeline([\n",
    "    ('vect', CountVectorizer(ngram_range=(1,2))),\n",
    "    ('clf', MultinomialNB()),\n",
    "])\n",
    "\n",
    "classifier.fit(train_data.post, train_data.tag)\n",
    "predictions = classifier.predict(test_data.post)\n",
    "print(f\"2-grams chance that a prediction is correct: {np.mean(predictions == test_data.tag) * 100:.0f}%\")"
   ]
  },
  {
   "cell_type": "code",
   "execution_count": 91,
   "metadata": {},
   "outputs": [
    {
     "name": "stdout",
     "output_type": "stream",
     "text": [
      "      New chance that a prediction is correct: 76%\n"
     ]
    }
   ],
   "source": [
    "classifier = Pipeline([\n",
    "    ('vect', CountVectorizer(ngram_range=(1,3))),\n",
    "    ('clf', MultinomialNB()),\n",
    "])\n",
    "\n",
    "classifier.fit(train_data.post, train_data.tag)\n",
    "predictions = classifier.predict(test_data.post)\n",
    "print(f\"      New chance that a prediction is correct: {np.mean(predictions == test_data.tag) * 100:.0f}%\")"
   ]
  },
  {
   "cell_type": "markdown",
   "metadata": {},
   "source": [
    "### Both?"
   ]
  },
  {
   "cell_type": "code",
   "execution_count": 33,
   "metadata": {},
   "outputs": [
    {
     "name": "stdout",
     "output_type": "stream",
     "text": [
      "      New chance that a prediction is correct: 75%\n"
     ]
    }
   ],
   "source": [
    "classifier = Pipeline([\n",
    "    ('vect', CountVectorizer(ngram_range=(2,2), stop_words=stopWords)),\n",
    "    ('clf', MultinomialNB()),\n",
    "])\n",
    "\n",
    "classifier.fit(train_data.post, train_data.tag)\n",
    "predictions = classifier.predict(test_data.post)\n",
    "print(f\"      New chance that a prediction is correct: {np.mean(predictions == test_data.tag) * 100:.0f}%\")"
   ]
  },
  {
   "cell_type": "markdown",
   "metadata": {},
   "source": [
    "### SVG?"
   ]
  },
  {
   "cell_type": "code",
   "execution_count": 92,
   "metadata": {},
   "outputs": [
    {
     "name": "stdout",
     "output_type": "stream",
     "text": [
      "SVG 2-gram chance that a prediction is correct: 80%\n"
     ]
    }
   ],
   "source": [
    "classifier = Pipeline([\n",
    "    ('vect', CountVectorizer(ngram_range=(1,2))),\n",
    "    ('clf', SGDClassifier(alpha=0.1, random_state=42, max_iter=20, tol=0.3)),\n",
    "])\n",
    "\n",
    "classifier.fit(train_data.post, train_data.tag)\n",
    "predictions = classifier.predict(test_data.post)\n",
    "print(f\"SVG 2-gram chance that a prediction is correct: {np.mean(predictions == test_data.tag) * 100:.0f}%\")"
   ]
  },
  {
   "cell_type": "code",
   "execution_count": null,
   "metadata": {},
   "outputs": [],
   "source": []
  },
  {
   "cell_type": "markdown",
   "metadata": {},
   "source": [
    "### Try on small data set"
   ]
  },
  {
   "cell_type": "code",
   "execution_count": 35,
   "metadata": {},
   "outputs": [],
   "source": [
    "train_data = data[:100]\n",
    "test_data = data[4000:]"
   ]
  },
  {
   "cell_type": "code",
   "execution_count": 36,
   "metadata": {},
   "outputs": [
    {
     "name": "stdout",
     "output_type": "stream",
     "text": [
      "Original chance that a prediction is correct: 56%\n"
     ]
    }
   ],
   "source": [
    "classifier = Pipeline([\n",
    "    ('vect', CountVectorizer()),\n",
    "    ('clf', MultinomialNB()),\n",
    "])\n",
    "\n",
    "classifier.fit(train_data.post, train_data.tag)\n",
    "predictions = classifier.predict(test_data.post)\n",
    "print(f\"Original chance that a prediction is correct: {np.mean(predictions == test_data.tag) * 100:.0f}%\")"
   ]
  },
  {
   "cell_type": "code",
   "execution_count": 37,
   "metadata": {},
   "outputs": [
    {
     "name": "stdout",
     "output_type": "stream",
     "text": [
      "2-gram chance that a prediction is correct: 53%\n"
     ]
    }
   ],
   "source": [
    "classifier = Pipeline([\n",
    "    ('vect', CountVectorizer(ngram_range=(1,2))),\n",
    "    ('clf', MultinomialNB()),\n",
    "])\n",
    "\n",
    "classifier.fit(train_data.post, train_data.tag)\n",
    "predictions = classifier.predict(test_data.post)\n",
    "print(f\"2-gram chance that a prediction is correct: {np.mean(predictions == test_data.tag) * 100:.0f}%\")"
   ]
  },
  {
   "cell_type": "markdown",
   "metadata": {},
   "source": [
    "### Try an SVG?"
   ]
  },
  {
   "cell_type": "code",
   "execution_count": 38,
   "metadata": {},
   "outputs": [
    {
     "name": "stdout",
     "output_type": "stream",
     "text": [
      "SVG 2-gram chance that a prediction is correct: 54%\n"
     ]
    }
   ],
   "source": [
    "classifier = Pipeline([\n",
    "    ('vect', CountVectorizer(ngram_range=(1,2))),\n",
    "    ('clf', SGDClassifier(loss='hinge', penalty='l2', alpha=1e-3, random_state=42, max_iter=20, tol=0.01)),\n",
    "])\n",
    "\n",
    "classifier.fit(train_data.post, train_data.tag)\n",
    "predictions = classifier.predict(test_data.post)\n",
    "print(f\"SVG 2-gram chance that a prediction is correct: {np.mean(predictions == test_data.tag) * 100:.0f}%\")"
   ]
  },
  {
   "cell_type": "markdown",
   "metadata": {},
   "source": [
    "## Try a bunch of other classifiers"
   ]
  },
  {
   "cell_type": "code",
   "execution_count": 54,
   "metadata": {},
   "outputs": [],
   "source": [
    "train_data = data[:4000]\n",
    "test_data = data[4000:]"
   ]
  },
  {
   "cell_type": "code",
   "execution_count": 55,
   "metadata": {},
   "outputs": [],
   "source": [
    "from sklearn.neighbors import KNeighborsClassifier\n",
    "from sklearn.svm import SVC, NuSVC\n",
    "from sklearn.tree import DecisionTreeClassifier\n",
    "from sklearn.ensemble import RandomForestClassifier, AdaBoostClassifier\n",
    "from sklearn.naive_bayes import MultinomialNB\n",
    "import matplotlib.pyplot as plt"
   ]
  },
  {
   "cell_type": "code",
   "execution_count": 56,
   "metadata": {},
   "outputs": [],
   "source": [
    "result_cols = [\"Classifier\", \"Accuracy\"]"
   ]
  },
  {
   "cell_type": "code",
   "execution_count": 60,
   "metadata": {},
   "outputs": [],
   "source": [
    "classifiers = [\n",
    "    MultinomialNB(),\n",
    "    KNeighborsClassifier(5),\n",
    "    SVC(kernel=\"rbf\", C=0.025, probability=True, gamma='auto'),\n",
    "    NuSVC(probability=True, gamma='auto'),\n",
    "    DecisionTreeClassifier(),\n",
    "    RandomForestClassifier(n_estimators=100),\n",
    "    AdaBoostClassifier()\n",
    "]"
   ]
  },
  {
   "cell_type": "code",
   "execution_count": 61,
   "metadata": {},
   "outputs": [
    {
     "name": "stdout",
     "output_type": "stream",
     "text": [
      "MultinomialNB accuracy = 73%\n",
      "KNeighborsClassifier accuracy = 50%\n",
      "SVC accuracy = 20%\n",
      "NuSVC accuracy = 75%\n",
      "DecisionTreeClassifier accuracy = 68%\n",
      "RandomForestClassifier accuracy = 77%\n",
      "AdaBoostClassifier accuracy = 68%\n"
     ]
    },
    {
     "data": {
      "text/html": [
       "<div>\n",
       "<style scoped>\n",
       "    .dataframe tbody tr th:only-of-type {\n",
       "        vertical-align: middle;\n",
       "    }\n",
       "\n",
       "    .dataframe tbody tr th {\n",
       "        vertical-align: top;\n",
       "    }\n",
       "\n",
       "    .dataframe thead th {\n",
       "        text-align: right;\n",
       "    }\n",
       "</style>\n",
       "<table border=\"1\" class=\"dataframe\">\n",
       "  <thead>\n",
       "    <tr style=\"text-align: right;\">\n",
       "      <th></th>\n",
       "      <th>Classifier</th>\n",
       "      <th>Accuracy</th>\n",
       "    </tr>\n",
       "  </thead>\n",
       "  <tbody>\n",
       "    <tr>\n",
       "      <th>0</th>\n",
       "      <td>MultinomialNB</td>\n",
       "      <td>72.9</td>\n",
       "    </tr>\n",
       "    <tr>\n",
       "      <th>0</th>\n",
       "      <td>KNeighborsClassifier</td>\n",
       "      <td>50.2</td>\n",
       "    </tr>\n",
       "    <tr>\n",
       "      <th>0</th>\n",
       "      <td>SVC</td>\n",
       "      <td>19.6</td>\n",
       "    </tr>\n",
       "    <tr>\n",
       "      <th>0</th>\n",
       "      <td>NuSVC</td>\n",
       "      <td>75.1</td>\n",
       "    </tr>\n",
       "    <tr>\n",
       "      <th>0</th>\n",
       "      <td>DecisionTreeClassifier</td>\n",
       "      <td>68.4</td>\n",
       "    </tr>\n",
       "    <tr>\n",
       "      <th>0</th>\n",
       "      <td>RandomForestClassifier</td>\n",
       "      <td>77.3</td>\n",
       "    </tr>\n",
       "    <tr>\n",
       "      <th>0</th>\n",
       "      <td>AdaBoostClassifier</td>\n",
       "      <td>67.9</td>\n",
       "    </tr>\n",
       "  </tbody>\n",
       "</table>\n",
       "</div>"
      ],
      "text/plain": [
       "               Classifier  Accuracy\n",
       "0           MultinomialNB      72.9\n",
       "0    KNeighborsClassifier      50.2\n",
       "0                     SVC      19.6\n",
       "0                   NuSVC      75.1\n",
       "0  DecisionTreeClassifier      68.4\n",
       "0  RandomForestClassifier      77.3\n",
       "0      AdaBoostClassifier      67.9"
      ]
     },
     "execution_count": 61,
     "metadata": {},
     "output_type": "execute_result"
    }
   ],
   "source": [
    "result_frame = pd.DataFrame(columns=result_cols)\n",
    "\n",
    "for clf in classifiers:\n",
    "    name = clf.__class__.__name__\n",
    "    text_clf = Pipeline([('vect', CountVectorizer()),\n",
    "#                          ('tfidf', TfidfTransformer()),\n",
    "                         ('clf', clf),])\n",
    "    text_clf.fit(train_data.post, train_data.tag)\n",
    "    \n",
    "    predicted = text_clf.predict(test_data.post)\n",
    "    acc = metrics.accuracy_score(test_data.tag, predicted)\n",
    "    print (f'{name} accuracy = {acc*100:.0f}%')\n",
    "    acc_field = pd.DataFrame([[name, acc*100]], columns=result_cols)\n",
    "    result_frame = result_frame.append(acc_field)\n",
    "\n",
    "result_frame"
   ]
  },
  {
   "cell_type": "code",
   "execution_count": 62,
   "metadata": {},
   "outputs": [
    {
     "name": "stdout",
     "output_type": "stream",
     "text": [
      "MultinomialNB accuracy = 76%\n",
      "KNeighborsClassifier accuracy = 48%\n",
      "SVC accuracy = 19%\n",
      "NuSVC accuracy = 74%\n",
      "DecisionTreeClassifier accuracy = 69%\n",
      "RandomForestClassifier accuracy = 77%\n",
      "AdaBoostClassifier accuracy = 68%\n"
     ]
    },
    {
     "data": {
      "text/html": [
       "<div>\n",
       "<style scoped>\n",
       "    .dataframe tbody tr th:only-of-type {\n",
       "        vertical-align: middle;\n",
       "    }\n",
       "\n",
       "    .dataframe tbody tr th {\n",
       "        vertical-align: top;\n",
       "    }\n",
       "\n",
       "    .dataframe thead th {\n",
       "        text-align: right;\n",
       "    }\n",
       "</style>\n",
       "<table border=\"1\" class=\"dataframe\">\n",
       "  <thead>\n",
       "    <tr style=\"text-align: right;\">\n",
       "      <th></th>\n",
       "      <th>Classifier</th>\n",
       "      <th>Accuracy</th>\n",
       "    </tr>\n",
       "  </thead>\n",
       "  <tbody>\n",
       "    <tr>\n",
       "      <th>0</th>\n",
       "      <td>MultinomialNB</td>\n",
       "      <td>76.1</td>\n",
       "    </tr>\n",
       "    <tr>\n",
       "      <th>0</th>\n",
       "      <td>KNeighborsClassifier</td>\n",
       "      <td>48.4</td>\n",
       "    </tr>\n",
       "    <tr>\n",
       "      <th>0</th>\n",
       "      <td>SVC</td>\n",
       "      <td>19.0</td>\n",
       "    </tr>\n",
       "    <tr>\n",
       "      <th>0</th>\n",
       "      <td>NuSVC</td>\n",
       "      <td>74.5</td>\n",
       "    </tr>\n",
       "    <tr>\n",
       "      <th>0</th>\n",
       "      <td>DecisionTreeClassifier</td>\n",
       "      <td>69.3</td>\n",
       "    </tr>\n",
       "    <tr>\n",
       "      <th>0</th>\n",
       "      <td>RandomForestClassifier</td>\n",
       "      <td>77.2</td>\n",
       "    </tr>\n",
       "    <tr>\n",
       "      <th>0</th>\n",
       "      <td>AdaBoostClassifier</td>\n",
       "      <td>68.0</td>\n",
       "    </tr>\n",
       "  </tbody>\n",
       "</table>\n",
       "</div>"
      ],
      "text/plain": [
       "               Classifier  Accuracy\n",
       "0           MultinomialNB      76.1\n",
       "0    KNeighborsClassifier      48.4\n",
       "0                     SVC      19.0\n",
       "0                   NuSVC      74.5\n",
       "0  DecisionTreeClassifier      69.3\n",
       "0  RandomForestClassifier      77.2\n",
       "0      AdaBoostClassifier      68.0"
      ]
     },
     "execution_count": 62,
     "metadata": {},
     "output_type": "execute_result"
    }
   ],
   "source": [
    "result_frame = pd.DataFrame(columns=result_cols)\n",
    "\n",
    "for clf in classifiers:\n",
    "    name = clf.__class__.__name__\n",
    "    text_clf = Pipeline([('vect', CountVectorizer(ngram_range=(1,2))),\n",
    "#                          ('tfidf', TfidfTransformer()),\n",
    "                         ('clf', clf),])\n",
    "    text_clf.fit(train_data.post, train_data.tag)\n",
    "    \n",
    "    predicted = text_clf.predict(test_data.post)\n",
    "    acc = metrics.accuracy_score(test_data.tag, predicted)\n",
    "    print (f'{name} accuracy = {acc*100:.0f}%')\n",
    "    acc_field = pd.DataFrame([[name, acc*100]], columns=result_cols)\n",
    "    result_frame = result_frame.append(acc_field)\n",
    "\n",
    "result_frame"
   ]
  },
  {
   "cell_type": "code",
   "execution_count": 65,
   "metadata": {},
   "outputs": [
    {
     "name": "stdout",
     "output_type": "stream",
     "text": [
      "MultinomialNB accuracy = 76%\n",
      "KNeighborsClassifier accuracy = 61%\n",
      "SVC accuracy = 19%\n",
      "NuSVC accuracy = 47%\n",
      "DecisionTreeClassifier accuracy = 65%\n",
      "RandomForestClassifier accuracy = 77%\n",
      "AdaBoostClassifier accuracy = 68%\n"
     ]
    },
    {
     "data": {
      "text/html": [
       "<div>\n",
       "<style scoped>\n",
       "    .dataframe tbody tr th:only-of-type {\n",
       "        vertical-align: middle;\n",
       "    }\n",
       "\n",
       "    .dataframe tbody tr th {\n",
       "        vertical-align: top;\n",
       "    }\n",
       "\n",
       "    .dataframe thead th {\n",
       "        text-align: right;\n",
       "    }\n",
       "</style>\n",
       "<table border=\"1\" class=\"dataframe\">\n",
       "  <thead>\n",
       "    <tr style=\"text-align: right;\">\n",
       "      <th></th>\n",
       "      <th>Classifier</th>\n",
       "      <th>Accuracy</th>\n",
       "    </tr>\n",
       "  </thead>\n",
       "  <tbody>\n",
       "    <tr>\n",
       "      <th>0</th>\n",
       "      <td>MultinomialNB</td>\n",
       "      <td>75.9</td>\n",
       "    </tr>\n",
       "    <tr>\n",
       "      <th>0</th>\n",
       "      <td>KNeighborsClassifier</td>\n",
       "      <td>60.8</td>\n",
       "    </tr>\n",
       "    <tr>\n",
       "      <th>0</th>\n",
       "      <td>SVC</td>\n",
       "      <td>19.0</td>\n",
       "    </tr>\n",
       "    <tr>\n",
       "      <th>0</th>\n",
       "      <td>NuSVC</td>\n",
       "      <td>47.4</td>\n",
       "    </tr>\n",
       "    <tr>\n",
       "      <th>0</th>\n",
       "      <td>DecisionTreeClassifier</td>\n",
       "      <td>65.3</td>\n",
       "    </tr>\n",
       "    <tr>\n",
       "      <th>0</th>\n",
       "      <td>RandomForestClassifier</td>\n",
       "      <td>76.6</td>\n",
       "    </tr>\n",
       "    <tr>\n",
       "      <th>0</th>\n",
       "      <td>AdaBoostClassifier</td>\n",
       "      <td>68.4</td>\n",
       "    </tr>\n",
       "  </tbody>\n",
       "</table>\n",
       "</div>"
      ],
      "text/plain": [
       "               Classifier  Accuracy\n",
       "0           MultinomialNB      75.9\n",
       "0    KNeighborsClassifier      60.8\n",
       "0                     SVC      19.0\n",
       "0                   NuSVC      47.4\n",
       "0  DecisionTreeClassifier      65.3\n",
       "0  RandomForestClassifier      76.6\n",
       "0      AdaBoostClassifier      68.4"
      ]
     },
     "execution_count": 65,
     "metadata": {},
     "output_type": "execute_result"
    }
   ],
   "source": [
    "result_frame = pd.DataFrame(columns=result_cols)\n",
    "\n",
    "for clf in classifiers:\n",
    "    name = clf.__class__.__name__\n",
    "    text_clf = Pipeline([('vect', CountVectorizer(ngram_range=(1,2))),\n",
    "                         ('tfidf', TfidfTransformer()),\n",
    "                         ('clf', clf),])\n",
    "    text_clf.fit(train_data.post, train_data.tag)\n",
    "    \n",
    "    predicted = text_clf.predict(test_data.post)\n",
    "    acc = metrics.accuracy_score(test_data.tag, predicted)\n",
    "    print (f'{name} accuracy = {acc*100:.0f}%')\n",
    "    acc_field = pd.DataFrame([[name, acc*100]], columns=result_cols)\n",
    "    result_frame = result_frame.append(acc_field)\n",
    "\n",
    "result_frame"
   ]
  },
  {
   "cell_type": "code",
   "execution_count": 67,
   "metadata": {},
   "outputs": [
    {
     "name": "stdout",
     "output_type": "stream",
     "text": [
      "MultinomialNB accuracy = 75%\n",
      "KNeighborsClassifier accuracy = 59%\n",
      "SVC accuracy = 19%\n",
      "NuSVC accuracy = 49%\n",
      "DecisionTreeClassifier accuracy = 67%\n",
      "RandomForestClassifier accuracy = 76%\n",
      "AdaBoostClassifier accuracy = 67%\n"
     ]
    },
    {
     "data": {
      "text/html": [
       "<div>\n",
       "<style scoped>\n",
       "    .dataframe tbody tr th:only-of-type {\n",
       "        vertical-align: middle;\n",
       "    }\n",
       "\n",
       "    .dataframe tbody tr th {\n",
       "        vertical-align: top;\n",
       "    }\n",
       "\n",
       "    .dataframe thead th {\n",
       "        text-align: right;\n",
       "    }\n",
       "</style>\n",
       "<table border=\"1\" class=\"dataframe\">\n",
       "  <thead>\n",
       "    <tr style=\"text-align: right;\">\n",
       "      <th></th>\n",
       "      <th>Classifier</th>\n",
       "      <th>Accuracy</th>\n",
       "    </tr>\n",
       "  </thead>\n",
       "  <tbody>\n",
       "    <tr>\n",
       "      <th>0</th>\n",
       "      <td>MultinomialNB</td>\n",
       "      <td>75.1</td>\n",
       "    </tr>\n",
       "    <tr>\n",
       "      <th>0</th>\n",
       "      <td>KNeighborsClassifier</td>\n",
       "      <td>59.0</td>\n",
       "    </tr>\n",
       "    <tr>\n",
       "      <th>0</th>\n",
       "      <td>SVC</td>\n",
       "      <td>19.0</td>\n",
       "    </tr>\n",
       "    <tr>\n",
       "      <th>0</th>\n",
       "      <td>NuSVC</td>\n",
       "      <td>48.8</td>\n",
       "    </tr>\n",
       "    <tr>\n",
       "      <th>0</th>\n",
       "      <td>DecisionTreeClassifier</td>\n",
       "      <td>66.8</td>\n",
       "    </tr>\n",
       "    <tr>\n",
       "      <th>0</th>\n",
       "      <td>RandomForestClassifier</td>\n",
       "      <td>76.3</td>\n",
       "    </tr>\n",
       "    <tr>\n",
       "      <th>0</th>\n",
       "      <td>AdaBoostClassifier</td>\n",
       "      <td>67.2</td>\n",
       "    </tr>\n",
       "  </tbody>\n",
       "</table>\n",
       "</div>"
      ],
      "text/plain": [
       "               Classifier  Accuracy\n",
       "0           MultinomialNB      75.1\n",
       "0    KNeighborsClassifier      59.0\n",
       "0                     SVC      19.0\n",
       "0                   NuSVC      48.8\n",
       "0  DecisionTreeClassifier      66.8\n",
       "0  RandomForestClassifier      76.3\n",
       "0      AdaBoostClassifier      67.2"
      ]
     },
     "execution_count": 67,
     "metadata": {},
     "output_type": "execute_result"
    }
   ],
   "source": [
    "result_frame = pd.DataFrame(columns=result_cols)\n",
    "\n",
    "for clf in classifiers:\n",
    "    name = clf.__class__.__name__\n",
    "    text_clf = Pipeline([('vect', CountVectorizer(ngram_range=(1,2), stop_words=stopWords)),\n",
    "                         ('tfidf', TfidfTransformer()),\n",
    "                         ('clf', clf),])\n",
    "    text_clf.fit(train_data.post, train_data.tag)\n",
    "    \n",
    "    predicted = text_clf.predict(test_data.post)\n",
    "    acc = metrics.accuracy_score(test_data.tag, predicted)\n",
    "    print (f'{name} accuracy = {acc*100:.0f}%')\n",
    "    acc_field = pd.DataFrame([[name, acc*100]], columns=result_cols)\n",
    "    result_frame = result_frame.append(acc_field)\n",
    "\n",
    "result_frame"
   ]
  },
  {
   "cell_type": "code",
   "execution_count": 72,
   "metadata": {},
   "outputs": [],
   "source": [
    "classifiers = [\n",
    "    MultinomialNB(),\n",
    "    SGDClassifier(loss='hinge', penalty='l2', alpha=1, random_state=42, max_iter=20, tol=0.01),\n",
    "    KNeighborsClassifier(5),\n",
    "    DecisionTreeClassifier(),\n",
    "    RandomForestClassifier(n_estimators=100),\n",
    "    AdaBoostClassifier()\n",
    "]"
   ]
  },
  {
   "cell_type": "code",
   "execution_count": 73,
   "metadata": {},
   "outputs": [
    {
     "name": "stdout",
     "output_type": "stream",
     "text": [
      "MultinomialNB accuracy = 74%\n",
      "SGDClassifier accuracy = 37%\n",
      "KNeighborsClassifier accuracy = 59%\n",
      "DecisionTreeClassifier accuracy = 68%\n",
      "RandomForestClassifier accuracy = 74%\n",
      "AdaBoostClassifier accuracy = 67%\n"
     ]
    },
    {
     "data": {
      "text/html": [
       "<div>\n",
       "<style scoped>\n",
       "    .dataframe tbody tr th:only-of-type {\n",
       "        vertical-align: middle;\n",
       "    }\n",
       "\n",
       "    .dataframe tbody tr th {\n",
       "        vertical-align: top;\n",
       "    }\n",
       "\n",
       "    .dataframe thead th {\n",
       "        text-align: right;\n",
       "    }\n",
       "</style>\n",
       "<table border=\"1\" class=\"dataframe\">\n",
       "  <thead>\n",
       "    <tr style=\"text-align: right;\">\n",
       "      <th></th>\n",
       "      <th>Classifier</th>\n",
       "      <th>Accuracy</th>\n",
       "    </tr>\n",
       "  </thead>\n",
       "  <tbody>\n",
       "    <tr>\n",
       "      <th>0</th>\n",
       "      <td>MultinomialNB</td>\n",
       "      <td>74.5</td>\n",
       "    </tr>\n",
       "    <tr>\n",
       "      <th>0</th>\n",
       "      <td>SGDClassifier</td>\n",
       "      <td>37.4</td>\n",
       "    </tr>\n",
       "    <tr>\n",
       "      <th>0</th>\n",
       "      <td>KNeighborsClassifier</td>\n",
       "      <td>59.3</td>\n",
       "    </tr>\n",
       "    <tr>\n",
       "      <th>0</th>\n",
       "      <td>DecisionTreeClassifier</td>\n",
       "      <td>67.9</td>\n",
       "    </tr>\n",
       "    <tr>\n",
       "      <th>0</th>\n",
       "      <td>RandomForestClassifier</td>\n",
       "      <td>74.4</td>\n",
       "    </tr>\n",
       "    <tr>\n",
       "      <th>0</th>\n",
       "      <td>AdaBoostClassifier</td>\n",
       "      <td>66.9</td>\n",
       "    </tr>\n",
       "  </tbody>\n",
       "</table>\n",
       "</div>"
      ],
      "text/plain": [
       "               Classifier  Accuracy\n",
       "0           MultinomialNB      74.5\n",
       "0           SGDClassifier      37.4\n",
       "0    KNeighborsClassifier      59.3\n",
       "0  DecisionTreeClassifier      67.9\n",
       "0  RandomForestClassifier      74.4\n",
       "0      AdaBoostClassifier      66.9"
      ]
     },
     "execution_count": 73,
     "metadata": {},
     "output_type": "execute_result"
    }
   ],
   "source": [
    "result_frame = pd.DataFrame(columns=result_cols)\n",
    "\n",
    "for clf in classifiers:\n",
    "    name = clf.__class__.__name__\n",
    "    text_clf = Pipeline([('vect', CountVectorizer(ngram_range=(1,2), stop_words='english')),\n",
    "                         ('tfidf', TfidfTransformer()),\n",
    "                         ('clf', clf),])\n",
    "    text_clf.fit(train_data.post, train_data.tag)\n",
    "    \n",
    "    predicted = text_clf.predict(test_data.post)\n",
    "    acc = metrics.accuracy_score(test_data.tag, predicted)\n",
    "    print (f'{name} accuracy = {acc*100:.0f}%')\n",
    "    acc_field = pd.DataFrame([[name, acc*100]], columns=result_cols)\n",
    "    result_frame = result_frame.append(acc_field)\n",
    "\n",
    "result_frame"
   ]
  },
  {
   "cell_type": "markdown",
   "metadata": {},
   "source": [
    "## Best"
   ]
  },
  {
   "cell_type": "code",
   "execution_count": 93,
   "metadata": {},
   "outputs": [],
   "source": [
    "classifiers = [\n",
    "    MultinomialNB(),\n",
    "    NuSVC(probability=True, gamma='auto'),\n",
    "    SGDClassifier(alpha=0.1, random_state=42, max_iter=20, tol=0.3),\n",
    "    RandomForestClassifier(n_estimators=100),\n",
    "]"
   ]
  },
  {
   "cell_type": "code",
   "execution_count": 94,
   "metadata": {},
   "outputs": [
    {
     "name": "stdout",
     "output_type": "stream",
     "text": [
      "MultinomialNB accuracy = 76%\n",
      "NuSVC accuracy = 74%\n",
      "SGDClassifier accuracy = 80%\n",
      "RandomForestClassifier accuracy = 76%\n"
     ]
    },
    {
     "data": {
      "text/html": [
       "<div>\n",
       "<style scoped>\n",
       "    .dataframe tbody tr th:only-of-type {\n",
       "        vertical-align: middle;\n",
       "    }\n",
       "\n",
       "    .dataframe tbody tr th {\n",
       "        vertical-align: top;\n",
       "    }\n",
       "\n",
       "    .dataframe thead th {\n",
       "        text-align: right;\n",
       "    }\n",
       "</style>\n",
       "<table border=\"1\" class=\"dataframe\">\n",
       "  <thead>\n",
       "    <tr style=\"text-align: right;\">\n",
       "      <th></th>\n",
       "      <th>Classifier</th>\n",
       "      <th>Accuracy</th>\n",
       "    </tr>\n",
       "  </thead>\n",
       "  <tbody>\n",
       "    <tr>\n",
       "      <th>0</th>\n",
       "      <td>MultinomialNB</td>\n",
       "      <td>76.1</td>\n",
       "    </tr>\n",
       "    <tr>\n",
       "      <th>0</th>\n",
       "      <td>NuSVC</td>\n",
       "      <td>74.5</td>\n",
       "    </tr>\n",
       "    <tr>\n",
       "      <th>0</th>\n",
       "      <td>SGDClassifier</td>\n",
       "      <td>80.4</td>\n",
       "    </tr>\n",
       "    <tr>\n",
       "      <th>0</th>\n",
       "      <td>RandomForestClassifier</td>\n",
       "      <td>75.9</td>\n",
       "    </tr>\n",
       "  </tbody>\n",
       "</table>\n",
       "</div>"
      ],
      "text/plain": [
       "               Classifier  Accuracy\n",
       "0           MultinomialNB      76.1\n",
       "0                   NuSVC      74.5\n",
       "0           SGDClassifier      80.4\n",
       "0  RandomForestClassifier      75.9"
      ]
     },
     "execution_count": 94,
     "metadata": {},
     "output_type": "execute_result"
    }
   ],
   "source": [
    "result_frame = pd.DataFrame(columns=result_cols)\n",
    "\n",
    "for clf in classifiers:\n",
    "    name = clf.__class__.__name__\n",
    "    text_clf = Pipeline([('vect', CountVectorizer(ngram_range=(1,2))),\n",
    "                         ('clf', clf),])\n",
    "    text_clf.fit(train_data.post, train_data.tag)\n",
    "    \n",
    "    predicted = text_clf.predict(test_data.post)\n",
    "    acc = metrics.accuracy_score(test_data.tag, predicted)\n",
    "    print (f'{name} accuracy = {acc*100:.0f}%')\n",
    "    acc_field = pd.DataFrame([[name, acc*100]], columns=result_cols)\n",
    "    result_frame = result_frame.append(acc_field)\n",
    "\n",
    "result_frame"
   ]
  },
  {
   "cell_type": "code",
   "execution_count": null,
   "metadata": {},
   "outputs": [],
   "source": []
  },
  {
   "cell_type": "code",
   "execution_count": null,
   "metadata": {},
   "outputs": [],
   "source": []
  },
  {
   "cell_type": "code",
   "execution_count": null,
   "metadata": {},
   "outputs": [],
   "source": []
  },
  {
   "cell_type": "markdown",
   "metadata": {},
   "source": [
    "# Extra"
   ]
  },
  {
   "cell_type": "code",
   "execution_count": null,
   "metadata": {},
   "outputs": [],
   "source": [
    "from nltk.corpus import stopwords\n",
    "\n",
    "import nltk\n",
    "nltk.download('stopwords')\n",
    "\n",
    "stopWords = set(stopwords.words('english'))\n",
    "\n",
    "print(stopWords)"
   ]
  }
 ],
 "metadata": {
  "kernelspec": {
   "display_name": "Python 3",
   "language": "python",
   "name": "python3"
  },
  "language_info": {
   "codemirror_mode": {
    "name": "ipython",
    "version": 3
   },
   "file_extension": ".py",
   "mimetype": "text/x-python",
   "name": "python",
   "nbconvert_exporter": "python",
   "pygments_lexer": "ipython3",
   "version": "3.6.6"
  }
 },
 "nbformat": 4,
 "nbformat_minor": 2
}
