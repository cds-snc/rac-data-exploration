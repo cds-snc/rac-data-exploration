{
 "cells": [
  {
   "cell_type": "markdown",
   "metadata": {},
   "source": [
    "Starting point: https://cloud.google.com/blog/products/gcp/intro-to-text-classification-with-keras-automatically-tagging-stack-overflow-posts"
   ]
  },
  {
   "cell_type": "code",
   "execution_count": 251,
   "metadata": {},
   "outputs": [],
   "source": [
    "import pandas as pd\n",
    "from sklearn import metrics\n",
    "from sklearn.feature_extraction.text import CountVectorizer\n",
    "from sklearn.naive_bayes import MultinomialNB\n",
    "from sklearn.linear_model import SGDClassifier\n",
    "from sklearn.pipeline import Pipeline\n",
    "import numpy as np\n",
    "import seaborn as sns"
   ]
  },
  {
   "cell_type": "markdown",
   "metadata": {},
   "source": [
    "# Data, data, data"
   ]
  },
  {
   "cell_type": "markdown",
   "metadata": {},
   "source": [
    "We have 5000 StackOverflow posts that have only one tag. We want to use the post to predict what the tag is."
   ]
  },
  {
   "cell_type": "code",
   "execution_count": 226,
   "metadata": {},
   "outputs": [
    {
     "data": {
      "text/html": [
       "<div>\n",
       "<style scoped>\n",
       "    .dataframe tbody tr th:only-of-type {\n",
       "        vertical-align: middle;\n",
       "    }\n",
       "\n",
       "    .dataframe tbody tr th {\n",
       "        vertical-align: top;\n",
       "    }\n",
       "\n",
       "    .dataframe thead th {\n",
       "        text-align: right;\n",
       "    }\n",
       "</style>\n",
       "<table border=\"1\" class=\"dataframe\">\n",
       "  <thead>\n",
       "    <tr style=\"text-align: right;\">\n",
       "      <th></th>\n",
       "      <th>post</th>\n",
       "      <th>tag</th>\n",
       "    </tr>\n",
       "  </thead>\n",
       "  <tbody>\n",
       "    <tr>\n",
       "      <th>0</th>\n",
       "      <td>getting absolute path of directory  how do i g...</td>\n",
       "      <td>python</td>\n",
       "    </tr>\n",
       "    <tr>\n",
       "      <th>1</th>\n",
       "      <td>css  page header/colours show up in safari but...</td>\n",
       "      <td>css</td>\n",
       "    </tr>\n",
       "    <tr>\n",
       "      <th>2</th>\n",
       "      <td>position absolute is not within the relative p...</td>\n",
       "      <td>css</td>\n",
       "    </tr>\n",
       "    <tr>\n",
       "      <th>3</th>\n",
       "      <td>extracting individual items resulting from a s...</td>\n",
       "      <td>python</td>\n",
       "    </tr>\n",
       "    <tr>\n",
       "      <th>4</th>\n",
       "      <td>resizable backgrounds  ok i need to make a who...</td>\n",
       "      <td>css</td>\n",
       "    </tr>\n",
       "    <tr>\n",
       "      <th>5</th>\n",
       "      <td>why aren t these two divs displayed how i expe...</td>\n",
       "      <td>html</td>\n",
       "    </tr>\n",
       "    <tr>\n",
       "      <th>6</th>\n",
       "      <td>strange height size top menu  in my top menu f...</td>\n",
       "      <td>css</td>\n",
       "    </tr>\n",
       "    <tr>\n",
       "      <th>7</th>\n",
       "      <td>what is the space between these elements   wha...</td>\n",
       "      <td>html</td>\n",
       "    </tr>\n",
       "    <tr>\n",
       "      <th>8</th>\n",
       "      <td>javascript missing semicolon   so i am using j...</td>\n",
       "      <td>javascript</td>\n",
       "    </tr>\n",
       "    <tr>\n",
       "      <th>9</th>\n",
       "      <td>how can we link a html button   i would like t...</td>\n",
       "      <td>html</td>\n",
       "    </tr>\n",
       "  </tbody>\n",
       "</table>\n",
       "</div>"
      ],
      "text/plain": [
       "                                                post         tag\n",
       "0  getting absolute path of directory  how do i g...      python\n",
       "1  css  page header/colours show up in safari but...         css\n",
       "2  position absolute is not within the relative p...         css\n",
       "3  extracting individual items resulting from a s...      python\n",
       "4  resizable backgrounds  ok i need to make a who...         css\n",
       "5  why aren t these two divs displayed how i expe...        html\n",
       "6  strange height size top menu  in my top menu f...         css\n",
       "7  what is the space between these elements   wha...        html\n",
       "8  javascript missing semicolon   so i am using j...  javascript\n",
       "9  how can we link a html button   i would like t...        html"
      ]
     },
     "execution_count": 226,
     "metadata": {},
     "output_type": "execute_result"
    }
   ],
   "source": [
    "raw_data = pd.read_csv('../data/stackOverflow.csv')\n",
    "raw_data.head(10)"
   ]
  },
  {
   "cell_type": "code",
   "execution_count": 227,
   "metadata": {},
   "outputs": [
    {
     "data": {
      "text/plain": [
       "array(['python', 'css', 'html', 'javascript', 'jquery'], dtype=object)"
      ]
     },
     "execution_count": 227,
     "metadata": {},
     "output_type": "execute_result"
    }
   ],
   "source": [
    "raw_data.tag.unique()"
   ]
  },
  {
   "cell_type": "markdown",
   "metadata": {},
   "source": [
    "The tag words probably often occur in the posts, so let's strip them out to make things a bit more challenging."
   ]
  },
  {
   "cell_type": "code",
   "execution_count": 228,
   "metadata": {},
   "outputs": [],
   "source": [
    "data = raw_data.copy()\n",
    "tags = data.tag.unique()\n",
    "\n",
    "def tag_stripper(s):\n",
    "    return ' '.join(filter((lambda w: w not in tags), s.split()))\n",
    "\n",
    "data['post'] = data.post.apply(tag_stripper)"
   ]
  },
  {
   "cell_type": "code",
   "execution_count": 229,
   "metadata": {},
   "outputs": [
    {
     "data": {
      "text/html": [
       "<div>\n",
       "<style scoped>\n",
       "    .dataframe tbody tr th:only-of-type {\n",
       "        vertical-align: middle;\n",
       "    }\n",
       "\n",
       "    .dataframe tbody tr th {\n",
       "        vertical-align: top;\n",
       "    }\n",
       "\n",
       "    .dataframe thead th {\n",
       "        text-align: right;\n",
       "    }\n",
       "</style>\n",
       "<table border=\"1\" class=\"dataframe\">\n",
       "  <thead>\n",
       "    <tr style=\"text-align: right;\">\n",
       "      <th></th>\n",
       "      <th>post</th>\n",
       "      <th>tag</th>\n",
       "    </tr>\n",
       "  </thead>\n",
       "  <tbody>\n",
       "    <tr>\n",
       "      <th>0</th>\n",
       "      <td>getting absolute path of directory how do i ge...</td>\n",
       "      <td>python</td>\n",
       "    </tr>\n",
       "    <tr>\n",
       "      <th>1</th>\n",
       "      <td>page header/colours show up in safari but not ...</td>\n",
       "      <td>css</td>\n",
       "    </tr>\n",
       "    <tr>\n",
       "      <th>2</th>\n",
       "      <td>position absolute is not within the relative p...</td>\n",
       "      <td>css</td>\n",
       "    </tr>\n",
       "    <tr>\n",
       "      <th>3</th>\n",
       "      <td>extracting individual items resulting from a s...</td>\n",
       "      <td>python</td>\n",
       "    </tr>\n",
       "    <tr>\n",
       "      <th>4</th>\n",
       "      <td>resizable backgrounds ok i need to make a whol...</td>\n",
       "      <td>css</td>\n",
       "    </tr>\n",
       "    <tr>\n",
       "      <th>5</th>\n",
       "      <td>why aren t these two divs displayed how i expe...</td>\n",
       "      <td>html</td>\n",
       "    </tr>\n",
       "    <tr>\n",
       "      <th>6</th>\n",
       "      <td>strange height size top menu in my top menu fo...</td>\n",
       "      <td>css</td>\n",
       "    </tr>\n",
       "    <tr>\n",
       "      <th>7</th>\n",
       "      <td>what is the space between these elements what ...</td>\n",
       "      <td>html</td>\n",
       "    </tr>\n",
       "    <tr>\n",
       "      <th>8</th>\n",
       "      <td>missing semicolon so i am using jsfiddle.net t...</td>\n",
       "      <td>javascript</td>\n",
       "    </tr>\n",
       "    <tr>\n",
       "      <th>9</th>\n",
       "      <td>how can we link a button i would like to creat...</td>\n",
       "      <td>html</td>\n",
       "    </tr>\n",
       "  </tbody>\n",
       "</table>\n",
       "</div>"
      ],
      "text/plain": [
       "                                                post         tag\n",
       "0  getting absolute path of directory how do i ge...      python\n",
       "1  page header/colours show up in safari but not ...         css\n",
       "2  position absolute is not within the relative p...         css\n",
       "3  extracting individual items resulting from a s...      python\n",
       "4  resizable backgrounds ok i need to make a whol...         css\n",
       "5  why aren t these two divs displayed how i expe...        html\n",
       "6  strange height size top menu in my top menu fo...         css\n",
       "7  what is the space between these elements what ...        html\n",
       "8  missing semicolon so i am using jsfiddle.net t...  javascript\n",
       "9  how can we link a button i would like to creat...        html"
      ]
     },
     "execution_count": 229,
     "metadata": {},
     "output_type": "execute_result"
    }
   ],
   "source": [
    "data.head(10)"
   ]
  },
  {
   "cell_type": "markdown",
   "metadata": {},
   "source": [
    "### How long are the posts?"
   ]
  },
  {
   "cell_type": "code",
   "execution_count": 230,
   "metadata": {},
   "outputs": [
    {
     "data": {
      "text/plain": [
       "<matplotlib.axes._subplots.AxesSubplot at 0x12618df98>"
      ]
     },
     "execution_count": 230,
     "metadata": {},
     "output_type": "execute_result"
    },
    {
     "data": {
      "image/png": "[encoded data removed]",
      "text/plain": [
       "<Figure size 432x288 with 1 Axes>"
      ]
     },
     "metadata": {
      "needs_background": "light"
     },
     "output_type": "display_data"
    }
   ],
   "source": [
    "post_lengths = data.post.apply(lambda s: len(s.split()))\n",
    "sns.distplot(post_lengths)"
   ]
  },
  {
   "cell_type": "code",
   "execution_count": 231,
   "metadata": {},
   "outputs": [
    {
     "data": {
      "text/plain": [
       "count    5000.00000\n",
       "mean      138.53200\n",
       "std       139.37451\n",
       "min         8.00000\n",
       "25%        68.00000\n",
       "50%       105.00000\n",
       "75%       162.00000\n",
       "max      3019.00000\n",
       "Name: post, dtype: float64"
      ]
     },
     "execution_count": 231,
     "metadata": {},
     "output_type": "execute_result"
    }
   ],
   "source": [
    "post_lengths.describe()"
   ]
  },
  {
   "cell_type": "markdown",
   "metadata": {},
   "source": [
    "So the average length of the posts in 139 words, with half the posts having less than 105 words."
   ]
  },
  {
   "cell_type": "markdown",
   "metadata": {},
   "source": [
    "### Split into training data and testing data"
   ]
  },
  {
   "cell_type": "markdown",
   "metadata": {},
   "source": [
    "It is **crucial** that we test our classifier using data that was **not** used to build. We split the data into two chunks, the data used to train (ie. build) the classifier, and the data we will later use to test it."
   ]
  },
  {
   "cell_type": "code",
   "execution_count": 232,
   "metadata": {},
   "outputs": [
    {
     "name": "stdout",
     "output_type": "stream",
     "text": [
      "Training on 4000 rows\n",
      "Testing on 1000 rows\n"
     ]
    }
   ],
   "source": [
    "train_data = data[:4000]\n",
    "test_data = data[4000:]\n",
    "print(f\"Training on {len(train_data)} rows\")\n",
    "print(f\"Testing on {len(test_data)} rows\")"
   ]
  },
  {
   "cell_type": "markdown",
   "metadata": {},
   "source": [
    "# Build a classifier!"
   ]
  },
  {
   "cell_type": "markdown",
   "metadata": {},
   "source": [
    "### Convert posts to word counts"
   ]
  },
  {
   "cell_type": "markdown",
   "metadata": {},
   "source": [
    "We will use a **bag of words** approach. Here we ignore what the posts mean, and we even ignore the order of the words in the post. (!) All that matters is the number of times each word appears.\n",
    "\n",
    "We convert the words into numbers, and the posts into vectors of word counts."
   ]
  },
  {
   "cell_type": "code",
   "execution_count": 233,
   "metadata": {},
   "outputs": [],
   "source": [
    "vectorizer = CountVectorizer()\n",
    "word_counts = vectorizer.fit_transform(train_data.post)"
   ]
  },
  {
   "cell_type": "code",
   "execution_count": 234,
   "metadata": {},
   "outputs": [
    {
     "name": "stdout",
     "output_type": "stream",
     "text": [
      "Number of words in the training data: 26878\n",
      "first 10: 00, 000, 0000, 00000, 000000, 0000000, 000000000, 00001, 0000121593475342, 000016\n",
      "middle 10: ideal, ideally, idealy, ideas, ident, identical, identically, identifications, identified, identifier\n"
     ]
    }
   ],
   "source": [
    "print(f\"Number of words in the training data: {len(vectorizer.get_feature_names())}\")\n",
    "print(f\"first 10: {', '.join(vectorizer.get_feature_names()[:10])}\")\n",
    "print(f\"middle 10: {', '.join(vectorizer.get_feature_names()[13000:13010])}\")"
   ]
  },
  {
   "cell_type": "markdown",
   "metadata": {},
   "source": [
    "Lets look at the first post."
   ]
  },
  {
   "cell_type": "code",
   "execution_count": 235,
   "metadata": {},
   "outputs": [
    {
     "name": "stdout",
     "output_type": "stream",
     "text": [
      " tag: python\n",
      "post: getting absolute path of directory how do i get the absolute path of a directory (it has to be any directory not the current one!) in i tried with <code>os.path.listdir()</code> but it yields only the relative one. thanks!\n"
     ]
    }
   ],
   "source": [
    "print(f\" tag: {train_data.tag.tolist()[0]}\")\n",
    "print(f\"post: {train_data.post.tolist()[0]}\")"
   ]
  },
  {
   "cell_type": "code",
   "execution_count": 236,
   "metadata": {},
   "outputs": [
    {
     "data": {
      "text/plain": [
       "<1x26878 sparse matrix of type '<class 'numpy.int64'>'\n",
       "\twith 28 stored elements in Compressed Sparse Row format>"
      ]
     },
     "execution_count": 236,
     "metadata": {},
     "output_type": "execute_result"
    }
   ],
   "source": [
    "word_counts[0]"
   ]
  },
  {
   "cell_type": "markdown",
   "metadata": {},
   "source": [
    "This tells us that there are 26878 different words in the training data. The first post has 28 different words. We encode it as a sparse vector rather than one that's almost all zeros."
   ]
  },
  {
   "cell_type": "code",
   "execution_count": 237,
   "metadata": {},
   "outputs": [
    {
     "name": "stdout",
     "output_type": "stream",
     "text": [
      "  (0, 23915)\t1\n",
      "  (0, 20271)\t1\n",
      "  (0, 17659)\t1\n",
      "  (0, 26612)\t1\n",
      "  (0, 5930)\t1\n",
      "  (0, 15095)\t1\n",
      "  (0, 17903)\t1\n",
      "  (0, 6946)\t2\n",
      "  (0, 26169)\t1\n",
      "  (0, 24558)\t1\n",
      "  (0, 13266)\t1\n",
      "  (0, 17627)\t2\n",
      "  (0, 7983)\t1\n",
      "  (0, 17186)\t1\n",
      "  (0, 4309)\t1\n",
      "  (0, 5159)\t1\n",
      "  (0, 24237)\t1\n",
      "  (0, 12420)\t1\n",
      "  (0, 13925)\t2\n",
      "  (0, 23923)\t3\n",
      "  (0, 11721)\t1\n",
      "  (0, 9133)\t1\n",
      "  (0, 12803)\t1\n",
      "  (0, 8914)\t3\n",
      "  (0, 17515)\t2\n",
      "  (0, 18367)\t3\n",
      "  (0, 3495)\t2\n",
      "  (0, 11901)\t1\n"
     ]
    }
   ],
   "source": [
    "print(word_counts[0])"
   ]
  },
  {
   "cell_type": "code",
   "execution_count": 238,
   "metadata": {},
   "outputs": [
    {
     "data": {
      "text/plain": [
       "'directory'"
      ]
     },
     "execution_count": 238,
     "metadata": {},
     "output_type": "execute_result"
    }
   ],
   "source": [
    "vectorizer.get_feature_names()[8914]"
   ]
  },
  {
   "cell_type": "markdown",
   "metadata": {},
   "source": [
    "### Naively classifying"
   ]
  },
  {
   "cell_type": "markdown",
   "metadata": {},
   "source": [
    "Our classifier will have two steps. First we convert the data into word counts as above. Then we use these word counts in a Naive Bayes classifier. \n",
    "\n",
    "This is pretty much the simplest classifier we can use. It has few parameters but makes lots of assumptions about the data that are totally wrong. \n",
    "\n",
    "For example, it assumes that the words appear independently, ie one word appearing in a post doesn't change the likelihood of one of the other words appearing.\n",
    "\n",
    "Since our posts are sentences, this is really wrong."
   ]
  },
  {
   "cell_type": "code",
   "execution_count": 239,
   "metadata": {},
   "outputs": [
    {
     "data": {
      "text/plain": [
       "Pipeline(memory=None,\n",
       "     steps=[('vect', CountVectorizer(analyzer='word', binary=False, decode_error='strict',\n",
       "        dtype=<class 'numpy.int64'>, encoding='utf-8', input='content',\n",
       "        lowercase=True, max_df=1.0, max_features=None, min_df=1,\n",
       "        ngram_range=(1, 1), preprocessor=None, stop_words=None,\n",
       "        strip_accents=None, token_pattern='(?u)\\\\b\\\\w\\\\w+\\\\b',\n",
       "        tokenizer=None, vocabulary=None)), ('clf', MultinomialNB(alpha=1.0, class_prior=None, fit_prior=True))])"
      ]
     },
     "execution_count": 239,
     "metadata": {},
     "output_type": "execute_result"
    }
   ],
   "source": [
    "classifier = Pipeline([\n",
    "    ('vect', CountVectorizer()),\n",
    "    ('clf', MultinomialNB()),\n",
    "])\n",
    "\n",
    "classifier.fit(train_data.post, train_data.tag)"
   ]
  },
  {
   "cell_type": "code",
   "execution_count": 240,
   "metadata": {},
   "outputs": [
    {
     "name": "stdout",
     "output_type": "stream",
     "text": [
      "Average chance that a prediction is correct: 73%\n",
      "Not terrible!\n"
     ]
    }
   ],
   "source": [
    "predictions = classifier.predict(test_data.post)\n",
    "print(f\"Average chance that a prediction is correct: {np.mean(predictions == test_data.tag) * 100:.0f}%\")\n",
    "print(\"Not terrible!\")"
   ]
  },
  {
   "cell_type": "markdown",
   "metadata": {},
   "source": [
    "A **confusion matrix** shows us how many things got classified as other things."
   ]
  },
  {
   "cell_type": "code",
   "execution_count": 241,
   "metadata": {},
   "outputs": [
    {
     "data": {
      "text/html": [
       "<div>\n",
       "<style scoped>\n",
       "    .dataframe tbody tr th:only-of-type {\n",
       "        vertical-align: middle;\n",
       "    }\n",
       "\n",
       "    .dataframe tbody tr th {\n",
       "        vertical-align: top;\n",
       "    }\n",
       "\n",
       "    .dataframe thead tr th {\n",
       "        text-align: left;\n",
       "    }\n",
       "</style>\n",
       "<table border=\"1\" class=\"dataframe\">\n",
       "  <thead>\n",
       "    <tr>\n",
       "      <th></th>\n",
       "      <th></th>\n",
       "      <th colspan=\"5\" halign=\"left\">predicted</th>\n",
       "      <th>Count</th>\n",
       "    </tr>\n",
       "    <tr>\n",
       "      <th></th>\n",
       "      <th></th>\n",
       "      <th>python</th>\n",
       "      <th>css</th>\n",
       "      <th>html</th>\n",
       "      <th>javascript</th>\n",
       "      <th>jquery</th>\n",
       "      <th></th>\n",
       "    </tr>\n",
       "  </thead>\n",
       "  <tbody>\n",
       "    <tr>\n",
       "      <th rowspan=\"6\" valign=\"top\">actual</th>\n",
       "      <th>python</th>\n",
       "      <td>162</td>\n",
       "      <td>23</td>\n",
       "      <td>6</td>\n",
       "      <td>8</td>\n",
       "      <td>3</td>\n",
       "      <td>202</td>\n",
       "    </tr>\n",
       "    <tr>\n",
       "      <th>css</th>\n",
       "      <td>35</td>\n",
       "      <td>112</td>\n",
       "      <td>15</td>\n",
       "      <td>24</td>\n",
       "      <td>19</td>\n",
       "      <td>205</td>\n",
       "    </tr>\n",
       "    <tr>\n",
       "      <th>html</th>\n",
       "      <td>6</td>\n",
       "      <td>13</td>\n",
       "      <td>138</td>\n",
       "      <td>28</td>\n",
       "      <td>23</td>\n",
       "      <td>208</td>\n",
       "    </tr>\n",
       "    <tr>\n",
       "      <th>javascript</th>\n",
       "      <td>4</td>\n",
       "      <td>16</td>\n",
       "      <td>37</td>\n",
       "      <td>133</td>\n",
       "      <td>5</td>\n",
       "      <td>195</td>\n",
       "    </tr>\n",
       "    <tr>\n",
       "      <th>jquery</th>\n",
       "      <td>2</td>\n",
       "      <td>0</td>\n",
       "      <td>4</td>\n",
       "      <td>0</td>\n",
       "      <td>184</td>\n",
       "      <td>190</td>\n",
       "    </tr>\n",
       "    <tr>\n",
       "      <th>Count</th>\n",
       "      <td>209</td>\n",
       "      <td>164</td>\n",
       "      <td>200</td>\n",
       "      <td>193</td>\n",
       "      <td>234</td>\n",
       "      <td>1000</td>\n",
       "    </tr>\n",
       "  </tbody>\n",
       "</table>\n",
       "</div>"
      ],
      "text/plain": [
       "                  predicted                             Count\n",
       "                     python  css html javascript jquery      \n",
       "actual python           162   23    6          8      3   202\n",
       "       css               35  112   15         24     19   205\n",
       "       html               6   13  138         28     23   208\n",
       "       javascript         4   16   37        133      5   195\n",
       "       jquery             2    0    4          0    184   190\n",
       "       Count            209  164  200        193    234  1000"
      ]
     },
     "execution_count": 241,
     "metadata": {},
     "output_type": "execute_result"
    }
   ],
   "source": [
    "row_index = pd.MultiIndex.from_tuples([('actual', x) for x in tags])\n",
    "col_index = pd.MultiIndex.from_tuples([('predicted', x) for x in tags])\n",
    "confusion_matrix = metrics.confusion_matrix(test_data.tag, predictions)\n",
    "\n",
    "df = pd.DataFrame(confusion_matrix, index=row_index, columns=col_index)\n",
    "df['Count'] = df[df.columns].sum(axis=1)\n",
    "s = df.sum()\n",
    "s.name = ('actual', \"Count\")\n",
    "df = df.append(s)\n",
    "\n",
    "confusion_matrix_4000 = df\n",
    "confusion_matrix_4000"
   ]
  },
  {
   "cell_type": "markdown",
   "metadata": {},
   "source": [
    "What if we don't have much data?"
   ]
  },
  {
   "cell_type": "code",
   "execution_count": 242,
   "metadata": {},
   "outputs": [
    {
     "name": "stdout",
     "output_type": "stream",
     "text": [
      "Training on 100 rows\n",
      "Testing on 1000 rows\n"
     ]
    }
   ],
   "source": [
    "train_data = data[:100]\n",
    "test_data = data[4000:]\n",
    "print(f\"Training on {len(train_data)} rows\")\n",
    "print(f\"Testing on {len(test_data)} rows\")"
   ]
  },
  {
   "cell_type": "code",
   "execution_count": 246,
   "metadata": {
    "scrolled": false
   },
   "outputs": [
    {
     "name": "stdout",
     "output_type": "stream",
     "text": [
      "Previous chance that a prediction was correct: 56%\n",
      "      New chance that a prediction is correct: 56%\n"
     ]
    }
   ],
   "source": [
    "classifier = Pipeline([\n",
    "    ('vect', CountVectorizer()),\n",
    "    ('clf', MultinomialNB()),\n",
    "])\n",
    "\n",
    "classifier.fit(train_data.post, train_data.tag)\n",
    "print(f\"Previous chance that a prediction was correct: {np.mean(predictions == test_data.tag) * 100:.0f}%\")\n",
    "predictions = classifier.predict(test_data.post)\n",
    "print(f\"      New chance that a prediction is correct: {np.mean(predictions == test_data.tag) * 100:.0f}%\")"
   ]
  },
  {
   "cell_type": "code",
   "execution_count": 244,
   "metadata": {},
   "outputs": [
    {
     "data": {
      "text/html": [
       "<div>\n",
       "<style scoped>\n",
       "    .dataframe tbody tr th:only-of-type {\n",
       "        vertical-align: middle;\n",
       "    }\n",
       "\n",
       "    .dataframe tbody tr th {\n",
       "        vertical-align: top;\n",
       "    }\n",
       "\n",
       "    .dataframe thead tr th {\n",
       "        text-align: left;\n",
       "    }\n",
       "</style>\n",
       "<table border=\"1\" class=\"dataframe\">\n",
       "  <thead>\n",
       "    <tr>\n",
       "      <th></th>\n",
       "      <th></th>\n",
       "      <th colspan=\"5\" halign=\"left\">predicted</th>\n",
       "      <th>Count</th>\n",
       "    </tr>\n",
       "    <tr>\n",
       "      <th></th>\n",
       "      <th></th>\n",
       "      <th>python</th>\n",
       "      <th>css</th>\n",
       "      <th>html</th>\n",
       "      <th>javascript</th>\n",
       "      <th>jquery</th>\n",
       "      <th></th>\n",
       "    </tr>\n",
       "  </thead>\n",
       "  <tbody>\n",
       "    <tr>\n",
       "      <th rowspan=\"6\" valign=\"top\">actual</th>\n",
       "      <th>python</th>\n",
       "      <td>153</td>\n",
       "      <td>31</td>\n",
       "      <td>16</td>\n",
       "      <td>1</td>\n",
       "      <td>1</td>\n",
       "      <td>202</td>\n",
       "    </tr>\n",
       "    <tr>\n",
       "      <th>css</th>\n",
       "      <td>68</td>\n",
       "      <td>89</td>\n",
       "      <td>32</td>\n",
       "      <td>8</td>\n",
       "      <td>8</td>\n",
       "      <td>205</td>\n",
       "    </tr>\n",
       "    <tr>\n",
       "      <th>html</th>\n",
       "      <td>10</td>\n",
       "      <td>17</td>\n",
       "      <td>163</td>\n",
       "      <td>7</td>\n",
       "      <td>11</td>\n",
       "      <td>208</td>\n",
       "    </tr>\n",
       "    <tr>\n",
       "      <th>javascript</th>\n",
       "      <td>34</td>\n",
       "      <td>20</td>\n",
       "      <td>93</td>\n",
       "      <td>46</td>\n",
       "      <td>2</td>\n",
       "      <td>195</td>\n",
       "    </tr>\n",
       "    <tr>\n",
       "      <th>jquery</th>\n",
       "      <td>0</td>\n",
       "      <td>16</td>\n",
       "      <td>63</td>\n",
       "      <td>1</td>\n",
       "      <td>110</td>\n",
       "      <td>190</td>\n",
       "    </tr>\n",
       "    <tr>\n",
       "      <th>Count</th>\n",
       "      <td>265</td>\n",
       "      <td>173</td>\n",
       "      <td>367</td>\n",
       "      <td>63</td>\n",
       "      <td>132</td>\n",
       "      <td>1000</td>\n",
       "    </tr>\n",
       "  </tbody>\n",
       "</table>\n",
       "</div>"
      ],
      "text/plain": [
       "                  predicted                             Count\n",
       "                     python  css html javascript jquery      \n",
       "actual python           153   31   16          1      1   202\n",
       "       css               68   89   32          8      8   205\n",
       "       html              10   17  163          7     11   208\n",
       "       javascript        34   20   93         46      2   195\n",
       "       jquery             0   16   63          1    110   190\n",
       "       Count            265  173  367         63    132  1000"
      ]
     },
     "execution_count": 244,
     "metadata": {},
     "output_type": "execute_result"
    }
   ],
   "source": [
    "row_index = pd.MultiIndex.from_tuples([('actual', x) for x in tags])\n",
    "col_index = pd.MultiIndex.from_tuples([('predicted', x) for x in tags])\n",
    "confusion_matrix = metrics.confusion_matrix(test_data.tag, predictions)\n",
    "\n",
    "df = pd.DataFrame(confusion_matrix, index=row_index, columns=col_index)\n",
    "df['Count'] = df[df.columns].sum(axis=1)\n",
    "s = df.sum()\n",
    "s.name = ('actual', \"Count\")\n",
    "df = df.append(s)\n",
    "\n",
    "confusion_matrix_100 = df\n",
    "confusion_matrix_100"
   ]
  },
  {
   "cell_type": "markdown",
   "metadata": {},
   "source": [
    "Really terrible at classifying javascript posts :("
   ]
  },
  {
   "cell_type": "code",
   "execution_count": 245,
   "metadata": {},
   "outputs": [
    {
     "data": {
      "text/html": [
       "<div>\n",
       "<style scoped>\n",
       "    .dataframe tbody tr th:only-of-type {\n",
       "        vertical-align: middle;\n",
       "    }\n",
       "\n",
       "    .dataframe tbody tr th {\n",
       "        vertical-align: top;\n",
       "    }\n",
       "\n",
       "    .dataframe thead tr th {\n",
       "        text-align: left;\n",
       "    }\n",
       "</style>\n",
       "<table border=\"1\" class=\"dataframe\">\n",
       "  <thead>\n",
       "    <tr>\n",
       "      <th></th>\n",
       "      <th></th>\n",
       "      <th colspan=\"5\" halign=\"left\">predicted</th>\n",
       "      <th>Count</th>\n",
       "    </tr>\n",
       "    <tr>\n",
       "      <th></th>\n",
       "      <th></th>\n",
       "      <th>python</th>\n",
       "      <th>css</th>\n",
       "      <th>html</th>\n",
       "      <th>javascript</th>\n",
       "      <th>jquery</th>\n",
       "      <th></th>\n",
       "    </tr>\n",
       "  </thead>\n",
       "  <tbody>\n",
       "    <tr>\n",
       "      <th rowspan=\"6\" valign=\"top\">actual</th>\n",
       "      <th>python</th>\n",
       "      <td>162</td>\n",
       "      <td>23</td>\n",
       "      <td>6</td>\n",
       "      <td>8</td>\n",
       "      <td>3</td>\n",
       "      <td>202</td>\n",
       "    </tr>\n",
       "    <tr>\n",
       "      <th>css</th>\n",
       "      <td>35</td>\n",
       "      <td>112</td>\n",
       "      <td>15</td>\n",
       "      <td>24</td>\n",
       "      <td>19</td>\n",
       "      <td>205</td>\n",
       "    </tr>\n",
       "    <tr>\n",
       "      <th>html</th>\n",
       "      <td>6</td>\n",
       "      <td>13</td>\n",
       "      <td>138</td>\n",
       "      <td>28</td>\n",
       "      <td>23</td>\n",
       "      <td>208</td>\n",
       "    </tr>\n",
       "    <tr>\n",
       "      <th>javascript</th>\n",
       "      <td>4</td>\n",
       "      <td>16</td>\n",
       "      <td>37</td>\n",
       "      <td>133</td>\n",
       "      <td>5</td>\n",
       "      <td>195</td>\n",
       "    </tr>\n",
       "    <tr>\n",
       "      <th>jquery</th>\n",
       "      <td>2</td>\n",
       "      <td>0</td>\n",
       "      <td>4</td>\n",
       "      <td>0</td>\n",
       "      <td>184</td>\n",
       "      <td>190</td>\n",
       "    </tr>\n",
       "    <tr>\n",
       "      <th>Count</th>\n",
       "      <td>209</td>\n",
       "      <td>164</td>\n",
       "      <td>200</td>\n",
       "      <td>193</td>\n",
       "      <td>234</td>\n",
       "      <td>1000</td>\n",
       "    </tr>\n",
       "  </tbody>\n",
       "</table>\n",
       "</div>"
      ],
      "text/plain": [
       "                  predicted                             Count\n",
       "                     python  css html javascript jquery      \n",
       "actual python           162   23    6          8      3   202\n",
       "       css               35  112   15         24     19   205\n",
       "       html               6   13  138         28     23   208\n",
       "       javascript         4   16   37        133      5   195\n",
       "       jquery             2    0    4          0    184   190\n",
       "       Count            209  164  200        193    234  1000"
      ]
     },
     "execution_count": 245,
     "metadata": {},
     "output_type": "execute_result"
    }
   ],
   "source": [
    "confusion_matrix_4000"
   ]
  },
  {
   "cell_type": "markdown",
   "metadata": {},
   "source": [
    "#  Use a better classifier!"
   ]
  },
  {
   "cell_type": "markdown",
   "metadata": {},
   "source": [
    "Let's try a slightly better classifier, a support vector machine."
   ]
  },
  {
   "cell_type": "code",
   "execution_count": 248,
   "metadata": {},
   "outputs": [
    {
     "name": "stdout",
     "output_type": "stream",
     "text": [
      "Training on 4000 rows\n",
      "Testing on 1000 rows\n"
     ]
    }
   ],
   "source": [
    "train_data = data[:4000]\n",
    "test_data = data[4000:]\n",
    "print(f\"Training on {len(train_data)} rows\")\n",
    "print(f\"Testing on {len(test_data)} rows\")"
   ]
  },
  {
   "cell_type": "code",
   "execution_count": 252,
   "metadata": {},
   "outputs": [
    {
     "name": "stdout",
     "output_type": "stream",
     "text": [
      "      New chance that a prediction is correct: 74%\n"
     ]
    },
    {
     "name": "stderr",
     "output_type": "stream",
     "text": [
      "/Users/sastels/.local/share/virtualenvs/racc-data-exploration-GfbU4NdO/lib/python3.6/site-packages/sklearn/linear_model/stochastic_gradient.py:603: ConvergenceWarning: Maximum number of iteration reached before convergence. Consider increasing max_iter to improve the fit.\n",
      "  ConvergenceWarning)\n"
     ]
    }
   ],
   "source": [
    "classifier = Pipeline([\n",
    "    ('vect', CountVectorizer()),\n",
    "    ('clf', SGDClassifier(loss='hinge', penalty='l2', alpha=1e-3, random_state=42, max_iter=10, tol=0.01)),\n",
    "])\n",
    "\n",
    "classifier.fit(train_data.post, train_data.tag)\n",
    "predictions = classifier.predict(test_data.post)\n",
    "print(f\"      New chance that a prediction is correct: {np.mean(predictions == test_data.tag) * 100:.0f}%\")\n"
   ]
  },
  {
   "cell_type": "code",
   "execution_count": 253,
   "metadata": {},
   "outputs": [
    {
     "data": {
      "text/html": [
       "<div>\n",
       "<style scoped>\n",
       "    .dataframe tbody tr th:only-of-type {\n",
       "        vertical-align: middle;\n",
       "    }\n",
       "\n",
       "    .dataframe tbody tr th {\n",
       "        vertical-align: top;\n",
       "    }\n",
       "\n",
       "    .dataframe thead tr th {\n",
       "        text-align: left;\n",
       "    }\n",
       "</style>\n",
       "<table border=\"1\" class=\"dataframe\">\n",
       "  <thead>\n",
       "    <tr>\n",
       "      <th></th>\n",
       "      <th></th>\n",
       "      <th colspan=\"5\" halign=\"left\">predicted</th>\n",
       "      <th>Count</th>\n",
       "    </tr>\n",
       "    <tr>\n",
       "      <th></th>\n",
       "      <th></th>\n",
       "      <th>python</th>\n",
       "      <th>css</th>\n",
       "      <th>html</th>\n",
       "      <th>javascript</th>\n",
       "      <th>jquery</th>\n",
       "      <th></th>\n",
       "    </tr>\n",
       "  </thead>\n",
       "  <tbody>\n",
       "    <tr>\n",
       "      <th rowspan=\"6\" valign=\"top\">actual</th>\n",
       "      <th>python</th>\n",
       "      <td>157</td>\n",
       "      <td>33</td>\n",
       "      <td>1</td>\n",
       "      <td>8</td>\n",
       "      <td>3</td>\n",
       "      <td>202</td>\n",
       "    </tr>\n",
       "    <tr>\n",
       "      <th>css</th>\n",
       "      <td>34</td>\n",
       "      <td>124</td>\n",
       "      <td>14</td>\n",
       "      <td>20</td>\n",
       "      <td>13</td>\n",
       "      <td>205</td>\n",
       "    </tr>\n",
       "    <tr>\n",
       "      <th>html</th>\n",
       "      <td>12</td>\n",
       "      <td>17</td>\n",
       "      <td>126</td>\n",
       "      <td>32</td>\n",
       "      <td>21</td>\n",
       "      <td>208</td>\n",
       "    </tr>\n",
       "    <tr>\n",
       "      <th>javascript</th>\n",
       "      <td>4</td>\n",
       "      <td>8</td>\n",
       "      <td>19</td>\n",
       "      <td>159</td>\n",
       "      <td>5</td>\n",
       "      <td>195</td>\n",
       "    </tr>\n",
       "    <tr>\n",
       "      <th>jquery</th>\n",
       "      <td>4</td>\n",
       "      <td>4</td>\n",
       "      <td>1</td>\n",
       "      <td>6</td>\n",
       "      <td>175</td>\n",
       "      <td>190</td>\n",
       "    </tr>\n",
       "    <tr>\n",
       "      <th>Count</th>\n",
       "      <td>211</td>\n",
       "      <td>186</td>\n",
       "      <td>161</td>\n",
       "      <td>225</td>\n",
       "      <td>217</td>\n",
       "      <td>1000</td>\n",
       "    </tr>\n",
       "  </tbody>\n",
       "</table>\n",
       "</div>"
      ],
      "text/plain": [
       "                  predicted                             Count\n",
       "                     python  css html javascript jquery      \n",
       "actual python           157   33    1          8      3   202\n",
       "       css               34  124   14         20     13   205\n",
       "       html              12   17  126         32     21   208\n",
       "       javascript         4    8   19        159      5   195\n",
       "       jquery             4    4    1          6    175   190\n",
       "       Count            211  186  161        225    217  1000"
      ]
     },
     "execution_count": 253,
     "metadata": {},
     "output_type": "execute_result"
    }
   ],
   "source": [
    "row_index = pd.MultiIndex.from_tuples([('actual', x) for x in tags])\n",
    "col_index = pd.MultiIndex.from_tuples([('predicted', x) for x in tags])\n",
    "confusion_matrix = metrics.confusion_matrix(test_data.tag, predictions)\n",
    "\n",
    "df = pd.DataFrame(confusion_matrix, index=row_index, columns=col_index)\n",
    "df['Count'] = df[df.columns].sum(axis=1)\n",
    "s = df.sum()\n",
    "s.name = ('actual', \"Count\")\n",
    "df = df.append(s)\n",
    "df"
   ]
  },
  {
   "cell_type": "code",
   "execution_count": 254,
   "metadata": {},
   "outputs": [
    {
     "data": {
      "text/html": [
       "<div>\n",
       "<style scoped>\n",
       "    .dataframe tbody tr th:only-of-type {\n",
       "        vertical-align: middle;\n",
       "    }\n",
       "\n",
       "    .dataframe tbody tr th {\n",
       "        vertical-align: top;\n",
       "    }\n",
       "\n",
       "    .dataframe thead tr th {\n",
       "        text-align: left;\n",
       "    }\n",
       "</style>\n",
       "<table border=\"1\" class=\"dataframe\">\n",
       "  <thead>\n",
       "    <tr>\n",
       "      <th></th>\n",
       "      <th></th>\n",
       "      <th colspan=\"5\" halign=\"left\">predicted</th>\n",
       "      <th>Count</th>\n",
       "    </tr>\n",
       "    <tr>\n",
       "      <th></th>\n",
       "      <th></th>\n",
       "      <th>python</th>\n",
       "      <th>css</th>\n",
       "      <th>html</th>\n",
       "      <th>javascript</th>\n",
       "      <th>jquery</th>\n",
       "      <th></th>\n",
       "    </tr>\n",
       "  </thead>\n",
       "  <tbody>\n",
       "    <tr>\n",
       "      <th rowspan=\"6\" valign=\"top\">actual</th>\n",
       "      <th>python</th>\n",
       "      <td>162</td>\n",
       "      <td>23</td>\n",
       "      <td>6</td>\n",
       "      <td>8</td>\n",
       "      <td>3</td>\n",
       "      <td>202</td>\n",
       "    </tr>\n",
       "    <tr>\n",
       "      <th>css</th>\n",
       "      <td>35</td>\n",
       "      <td>112</td>\n",
       "      <td>15</td>\n",
       "      <td>24</td>\n",
       "      <td>19</td>\n",
       "      <td>205</td>\n",
       "    </tr>\n",
       "    <tr>\n",
       "      <th>html</th>\n",
       "      <td>6</td>\n",
       "      <td>13</td>\n",
       "      <td>138</td>\n",
       "      <td>28</td>\n",
       "      <td>23</td>\n",
       "      <td>208</td>\n",
       "    </tr>\n",
       "    <tr>\n",
       "      <th>javascript</th>\n",
       "      <td>4</td>\n",
       "      <td>16</td>\n",
       "      <td>37</td>\n",
       "      <td>133</td>\n",
       "      <td>5</td>\n",
       "      <td>195</td>\n",
       "    </tr>\n",
       "    <tr>\n",
       "      <th>jquery</th>\n",
       "      <td>2</td>\n",
       "      <td>0</td>\n",
       "      <td>4</td>\n",
       "      <td>0</td>\n",
       "      <td>184</td>\n",
       "      <td>190</td>\n",
       "    </tr>\n",
       "    <tr>\n",
       "      <th>Count</th>\n",
       "      <td>209</td>\n",
       "      <td>164</td>\n",
       "      <td>200</td>\n",
       "      <td>193</td>\n",
       "      <td>234</td>\n",
       "      <td>1000</td>\n",
       "    </tr>\n",
       "  </tbody>\n",
       "</table>\n",
       "</div>"
      ],
      "text/plain": [
       "                  predicted                             Count\n",
       "                     python  css html javascript jquery      \n",
       "actual python           162   23    6          8      3   202\n",
       "       css               35  112   15         24     19   205\n",
       "       html               6   13  138         28     23   208\n",
       "       javascript         4   16   37        133      5   195\n",
       "       jquery             2    0    4          0    184   190\n",
       "       Count            209  164  200        193    234  1000"
      ]
     },
     "execution_count": 254,
     "metadata": {},
     "output_type": "execute_result"
    }
   ],
   "source": [
    "confusion_matrix_4000"
   ]
  },
  {
   "cell_type": "markdown",
   "metadata": {},
   "source": [
    "Not really better than Naive Bayes !"
   ]
  },
  {
   "cell_type": "code",
   "execution_count": null,
   "metadata": {},
   "outputs": [],
   "source": []
  }
 ],
 "metadata": {
  "kernelspec": {
   "display_name": "Python 3",
   "language": "python",
   "name": "python3"
  },
  "language_info": {
   "codemirror_mode": {
    "name": "ipython",
    "version": 3
   },
   "file_extension": ".py",
   "mimetype": "text/x-python",
   "name": "python",
   "nbconvert_exporter": "python",
   "pygments_lexer": "ipython3",
   "version": "3.6.6"
  }
 },
 "nbformat": 4,
 "nbformat_minor": 2
}
